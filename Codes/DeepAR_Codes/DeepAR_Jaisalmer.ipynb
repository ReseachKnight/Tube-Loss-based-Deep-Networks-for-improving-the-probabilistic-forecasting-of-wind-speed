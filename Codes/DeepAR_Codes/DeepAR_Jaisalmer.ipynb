{
 "cells": [
  {
   "cell_type": "code",
   "execution_count": 1,
   "metadata": {},
   "outputs": [
    {
     "name": "stdout",
     "output_type": "stream",
     "text": [
      "Requirement already satisfied: torch in d:\\python3.11\\lib\\site-packages (2.7.0)\n",
      "Requirement already satisfied: filelock in d:\\python3.11\\lib\\site-packages (from torch) (3.18.0)\n",
      "Requirement already satisfied: typing-extensions>=4.10.0 in c:\\users\\aades_cuvnthj\\appdata\\roaming\\python\\python311\\site-packages (from torch) (4.13.2)\n",
      "Requirement already satisfied: sympy>=1.13.3 in d:\\python3.11\\lib\\site-packages (from torch) (1.13.3)\n",
      "Requirement already satisfied: networkx in d:\\python3.11\\lib\\site-packages (from torch) (3.4.2)\n",
      "Requirement already satisfied: jinja2 in d:\\python3.11\\lib\\site-packages (from torch) (3.1.6)\n",
      "Requirement already satisfied: fsspec in d:\\python3.11\\lib\\site-packages (from torch) (2025.3.2)\n",
      "Requirement already satisfied: mpmath<1.4,>=1.1.0 in d:\\python3.11\\lib\\site-packages (from sympy>=1.13.3->torch) (1.3.0)\n",
      "Requirement already satisfied: MarkupSafe>=2.0 in d:\\python3.11\\lib\\site-packages (from jinja2->torch) (3.0.2)\n",
      "Note: you may need to restart the kernel to use updated packages.\n"
     ]
    }
   ],
   "source": [
    "pip install torch"
   ]
  },
  {
   "cell_type": "code",
   "execution_count": 2,
   "metadata": {},
   "outputs": [
    {
     "name": "stdout",
     "output_type": "stream",
     "text": [
      "Requirement already satisfied: pytorch_lightning in d:\\python3.11\\lib\\site-packages (2.5.1)\n",
      "Requirement already satisfied: torch>=2.1.0 in d:\\python3.11\\lib\\site-packages (from pytorch_lightning) (2.7.0)\n",
      "Requirement already satisfied: tqdm>=4.57.0 in d:\\python3.11\\lib\\site-packages (from pytorch_lightning) (4.67.1)\n",
      "Requirement already satisfied: PyYAML>=5.4 in d:\\python3.11\\lib\\site-packages (from pytorch_lightning) (6.0.2)\n",
      "Requirement already satisfied: fsspec>=2022.5.0 in d:\\python3.11\\lib\\site-packages (from fsspec[http]>=2022.5.0->pytorch_lightning) (2025.3.2)\n",
      "Requirement already satisfied: torchmetrics>=0.7.0 in d:\\python3.11\\lib\\site-packages (from pytorch_lightning) (1.7.1)\n",
      "Requirement already satisfied: packaging>=20.0 in c:\\users\\aades_cuvnthj\\appdata\\roaming\\python\\python311\\site-packages (from pytorch_lightning) (25.0)\n",
      "Requirement already satisfied: typing-extensions>=4.4.0 in c:\\users\\aades_cuvnthj\\appdata\\roaming\\python\\python311\\site-packages (from pytorch_lightning) (4.13.2)\n",
      "Requirement already satisfied: lightning-utilities>=0.10.0 in d:\\python3.11\\lib\\site-packages (from pytorch_lightning) (0.14.3)\n",
      "Requirement already satisfied: aiohttp!=4.0.0a0,!=4.0.0a1 in d:\\python3.11\\lib\\site-packages (from fsspec[http]>=2022.5.0->pytorch_lightning) (3.11.18)\n",
      "Requirement already satisfied: setuptools in d:\\python3.11\\lib\\site-packages (from lightning-utilities>=0.10.0->pytorch_lightning) (65.5.0)\n",
      "Requirement already satisfied: filelock in d:\\python3.11\\lib\\site-packages (from torch>=2.1.0->pytorch_lightning) (3.18.0)\n",
      "Requirement already satisfied: sympy>=1.13.3 in d:\\python3.11\\lib\\site-packages (from torch>=2.1.0->pytorch_lightning) (1.13.3)\n",
      "Requirement already satisfied: networkx in d:\\python3.11\\lib\\site-packages (from torch>=2.1.0->pytorch_lightning) (3.4.2)\n",
      "Requirement already satisfied: jinja2 in d:\\python3.11\\lib\\site-packages (from torch>=2.1.0->pytorch_lightning) (3.1.6)\n",
      "Requirement already satisfied: numpy>1.20.0 in d:\\python3.11\\lib\\site-packages (from torchmetrics>=0.7.0->pytorch_lightning) (2.1.3)\n",
      "Requirement already satisfied: colorama in c:\\users\\aades_cuvnthj\\appdata\\roaming\\python\\python311\\site-packages (from tqdm>=4.57.0->pytorch_lightning) (0.4.6)\n",
      "Requirement already satisfied: aiohappyeyeballs>=2.3.0 in d:\\python3.11\\lib\\site-packages (from aiohttp!=4.0.0a0,!=4.0.0a1->fsspec[http]>=2022.5.0->pytorch_lightning) (2.6.1)\n",
      "Requirement already satisfied: aiosignal>=1.1.2 in d:\\python3.11\\lib\\site-packages (from aiohttp!=4.0.0a0,!=4.0.0a1->fsspec[http]>=2022.5.0->pytorch_lightning) (1.3.2)\n",
      "Requirement already satisfied: attrs>=17.3.0 in d:\\python3.11\\lib\\site-packages (from aiohttp!=4.0.0a0,!=4.0.0a1->fsspec[http]>=2022.5.0->pytorch_lightning) (25.3.0)\n",
      "Requirement already satisfied: frozenlist>=1.1.1 in d:\\python3.11\\lib\\site-packages (from aiohttp!=4.0.0a0,!=4.0.0a1->fsspec[http]>=2022.5.0->pytorch_lightning) (1.6.0)\n",
      "Requirement already satisfied: multidict<7.0,>=4.5 in d:\\python3.11\\lib\\site-packages (from aiohttp!=4.0.0a0,!=4.0.0a1->fsspec[http]>=2022.5.0->pytorch_lightning) (6.4.3)\n",
      "Requirement already satisfied: propcache>=0.2.0 in d:\\python3.11\\lib\\site-packages (from aiohttp!=4.0.0a0,!=4.0.0a1->fsspec[http]>=2022.5.0->pytorch_lightning) (0.3.1)\n",
      "Requirement already satisfied: yarl<2.0,>=1.17.0 in d:\\python3.11\\lib\\site-packages (from aiohttp!=4.0.0a0,!=4.0.0a1->fsspec[http]>=2022.5.0->pytorch_lightning) (1.20.0)\n",
      "Requirement already satisfied: mpmath<1.4,>=1.1.0 in d:\\python3.11\\lib\\site-packages (from sympy>=1.13.3->torch>=2.1.0->pytorch_lightning) (1.3.0)\n",
      "Requirement already satisfied: MarkupSafe>=2.0 in d:\\python3.11\\lib\\site-packages (from jinja2->torch>=2.1.0->pytorch_lightning) (3.0.2)\n",
      "Requirement already satisfied: idna>=2.0 in d:\\python3.11\\lib\\site-packages (from yarl<2.0,>=1.17.0->aiohttp!=4.0.0a0,!=4.0.0a1->fsspec[http]>=2022.5.0->pytorch_lightning) (3.10)\n",
      "Note: you may need to restart the kernel to use updated packages.\n"
     ]
    }
   ],
   "source": [
    "pip install pytorch_lightning"
   ]
  },
  {
   "cell_type": "code",
   "execution_count": 3,
   "metadata": {},
   "outputs": [],
   "source": [
    "import pandas as pd\n",
    "import numpy as np\n",
    "import torch\n",
    "import torch.nn as nn\n",
    "from torch.utils.data import Dataset, DataLoader\n",
    "import pytorch_lightning as pl\n",
    "from typing import Tuple, List\n",
    "import plotly.graph_objects as go\n",
    "\n",
    "class TimeSeriesDataset(Dataset):\n",
    "    def __init__(self, data: pd.DataFrame, sequence_length: int):\n",
    "        self.data = torch.FloatTensor(data.values)\n",
    "        self.sequence_length = sequence_length\n",
    "\n",
    "    def __len__(self) -> int:\n",
    "        return len(self.data) - self.sequence_length\n",
    "\n",
    "    def __getitem__(self, idx: int) -> Tuple[torch.Tensor, torch.Tensor]:\n",
    "        return (\n",
    "            self.data[idx:idx + self.sequence_length],\n",
    "            self.data[idx + self.sequence_length]\n",
    "        )\n",
    "\n",
    "class GaussianLayer(nn.Module):\n",
    "    def __init__(self, input_dim: int, output_dim: int):\n",
    "        super().__init__()\n",
    "        self.mu_layer = nn.Linear(input_dim, output_dim)\n",
    "        self.sigma_layer = nn.Linear(input_dim, output_dim)\n",
    "        \n",
    "    def forward(self, x: torch.Tensor) -> Tuple[torch.Tensor, torch.Tensor]:\n",
    "        mu = self.mu_layer(x)\n",
    "        sigma = torch.log1p(torch.exp(self.sigma_layer(x))) + 1e-6\n",
    "        return mu, sigma\n",
    "\n",
    "class DeepAR(pl.LightningModule):\n",
    "    def __init__(\n",
    "        self,\n",
    "        input_size: int = 1,\n",
    "        hidden_size: int = 64,\n",
    "        num_layers: int = 2,\n",
    "        learning_rate: float = 1e-3\n",
    "    ):\n",
    "        super().__init__()\n",
    "        self.save_hyperparameters()\n",
    "        \n",
    "        self.lstm = nn.LSTM(\n",
    "            input_size=input_size,\n",
    "            hidden_size=hidden_size,\n",
    "            num_layers=num_layers,\n",
    "            batch_first=True\n",
    "        )\n",
    "        self.dense = nn.Linear(hidden_size, 32)\n",
    "        self.activation = nn.ReLU()\n",
    "        self.gaussian = GaussianLayer(32, input_size)\n",
    "        self.learning_rate = learning_rate\n",
    "        \n",
    "    def gaussian_loss(\n",
    "        self,\n",
    "        y_true: torch.Tensor,\n",
    "        mu: torch.Tensor,\n",
    "        sigma: torch.Tensor\n",
    "    ) -> torch.Tensor:\n",
    "        pi_tensor = torch.tensor(2 * np.pi, device=self.device, dtype=torch.float32)\n",
    "        return 0.5 * torch.mean(\n",
    "            torch.log(pi_tensor)\n",
    "            + torch.log(sigma)\n",
    "            + (y_true - mu)**2 / (sigma**2)\n",
    "        )\n",
    "\n",
    "    def forward(self, x: torch.Tensor) -> Tuple[torch.Tensor, torch.Tensor]:\n",
    "        lstm_out, _ = self.lstm(x)\n",
    "        dense_out = self.activation(self.dense(lstm_out[:, -1, :]))\n",
    "        mu, sigma = self.gaussian(dense_out)\n",
    "        return mu, sigma\n",
    "\n",
    "    def training_step(\n",
    "        self,\n",
    "        batch: Tuple[torch.Tensor, torch.Tensor],\n",
    "        batch_idx: int\n",
    "    ) -> torch.Tensor:\n",
    "        x, y = batch\n",
    "        mu, sigma = self(x)\n",
    "        loss = self.gaussian_loss(y, mu, sigma)\n",
    "        self.log('train_loss', loss, prog_bar=True)\n",
    "        return loss\n",
    "\n",
    "    def validation_step(\n",
    "        self,\n",
    "        batch: Tuple[torch.Tensor, torch.Tensor],\n",
    "        batch_idx: int\n",
    "    ) -> torch.Tensor:\n",
    "        x, y = batch\n",
    "        mu, sigma = self(x)\n",
    "        loss = self.gaussian_loss(y, mu, sigma)\n",
    "        self.log('val_loss', loss, prog_bar=True)\n",
    "        return loss\n",
    "\n",
    "    def configure_optimizers(self):\n",
    "        return torch.optim.Adam(self.parameters(), lr=self.learning_rate)\n"
   ]
  },
  {
   "cell_type": "code",
   "execution_count": 4,
   "metadata": {},
   "outputs": [
    {
     "name": "stderr",
     "output_type": "stream",
     "text": [
      "GPU available: False, used: False\n",
      "TPU available: False, using: 0 TPU cores\n",
      "HPU available: False, using: 0 HPUs\n",
      "\n",
      "  | Name       | Type          | Params | Mode \n",
      "-----------------------------------------------------\n",
      "0 | lstm       | LSTM          | 50.4 K | train\n",
      "1 | dense      | Linear        | 2.1 K  | train\n",
      "2 | activation | ReLU          | 0      | train\n",
      "3 | gaussian   | GaussianLayer | 66     | train\n",
      "-----------------------------------------------------\n",
      "52.6 K    Trainable params\n",
      "0         Non-trainable params\n",
      "52.6 K    Total params\n",
      "0.210     Total estimated model params size (MB)\n",
      "6         Modules in train mode\n",
      "0         Modules in eval mode\n"
     ]
    },
    {
     "name": "stdout",
     "output_type": "stream",
     "text": [
      "                                                                           "
     ]
    },
    {
     "name": "stderr",
     "output_type": "stream",
     "text": [
      "d:\\Python3.11\\Lib\\site-packages\\pytorch_lightning\\trainer\\connectors\\data_connector.py:425: The 'val_dataloader' does not have many workers which may be a bottleneck. Consider increasing the value of the `num_workers` argument` to `num_workers=11` in the `DataLoader` to improve performance.\n",
      "d:\\Python3.11\\Lib\\site-packages\\pytorch_lightning\\trainer\\connectors\\data_connector.py:425: The 'train_dataloader' does not have many workers which may be a bottleneck. Consider increasing the value of the `num_workers` argument` to `num_workers=11` in the `DataLoader` to improve performance.\n"
     ]
    },
    {
     "name": "stdout",
     "output_type": "stream",
     "text": [
      "Epoch 41: 100%|██████████| 191/191 [00:03<00:00, 53.49it/s, v_num=2, train_loss=0.710, val_loss=0.684]\n",
      "Total Training Time: 137.51 seconds (2.29 minutes)\n",
      "PICP: 99.46%\n",
      "MPIW: 5.9334\n"
     ]
    },
    {
     "data": {
      "application/vnd.plotly.v1+json": {
       "config": {
        "plotlyServerURL": "https://plot.ly"
       },
       "data": [
        {
         "line": {
          "color": "blue"
         },
         "name": "True Values",
         "type": "scatter",
         "x": {
          "bdata": "AAECAwQFBgcICQoLDA0ODxAREhMUFRYXGBkaGxwdHh8gISIjJCUmJygpKissLS4vMDEyMzQ1Njc4OTo7PD0+P0BBQkNERUZHSElKS0xNTk9QUVJTVFVWV1hZWltcXV5fYGFiYw==",
          "dtype": "i1"
         },
         "y": {
          "bdata": "fbUPfhSuJ0BOgbwlhesoQEr1oKFwvSRA35qTzszMH0C3S/QUrschQFnGpmVm5iJAs+IGzszMGUDfeyVvPQoZQMEq+1S4HhhA47GO3XoUGEBCSf8G16MWQDBCkNSjcBlAfZahHoXrIEAIiU09ClciQA6lGfQoXCRAhjMF1aNwJUAnrrclXI8mQMxe0+RRuCZAJIpxMTMzJ0AEZ86pR2EoQDOmpYbr0ShApH2Q+ShcKEBYY6J969EnQAHxui5cjydAvHuqpkfhKEBUGxaVmRkpQAaLFJ5wvSdApOcz16NwIUAIADwAAIAiQD6r5bkeBSFAL457FK5HHUAT4T1wPQoeQNyz2qNwPR1AflujCNejGkAzFmoK16McQFvwDQAAAB1AfR+zW4/CIEAYbHZ7FC4gQIPEkE+4niJACF2NC9ejJUA0bZpvPQolQCIb/atHYSRApDJiaGbmJECaqeiMwnUlQIhXS8nMzCRAYH2n06NwJEAkP0OgcL0jQGoGIa9H4SNAvgL1gutRI0BrGEQpXI8jQFph2xyFayJAum1HCtejHkCZUFdfj8IXQBHfQkAK1xhAteA/bWZmFEDSJuYC16MTQK+ucStcjwxA3cGCWI/CEkBakVssXI8UQGoRgILrURdAd9BizMzMFUB9wG5RuB4bQLT0KUjhehlA20W8AAAAGkAhwmt+FK4WQCPmsXI9ChZAQCW5Eq5HF0BO5Jtcj8IVQOMUk8X1KBNAvEwSSuF6EkCxsXX0KFwTQHfQYszMzBVAGm9bEa5HFkChzky2HoUVQNyowOh6FBVAphbZnnA9FECewMRoPQoNQD1Z84HrURFAnsDEaD0KDUAYvTi2R+EKQDFqcfX//w9AvnBYPgrXEUAoLj5bj8IUQHOa+V2PwhZABkSm6lG4GUDd4PC3HoUZQFRduR6F6xpATTk/W4/CG0ClIySE61EbQM4P6/MoXBtA++nCuB6FG0ACDj18FK4aQLR9O4XrURlA3eDwtx6FGUB8N10UrkcbQPpgsXsUrhtAE1gsMzMzHkBccQuYmZkfQLx/aoTrUR5AJ9KZPQrXHEA=",
          "dtype": "f8"
         }
        },
        {
         "line": {
          "color": "green"
         },
         "name": "Predictions",
         "type": "scatter",
         "x": {
          "bdata": "AAECAwQFBgcICQoLDA0ODxAREhMUFRYXGBkaGxwdHh8gISIjJCUmJygpKissLS4vMDEyMzQ1Njc4OTo7PD0+P0BBQkNERUZHSElKS0xNTk9QUVJTVFVWV1hZWltcXV5fYGFiYw==",
          "dtype": "i1"
         },
         "y": {
          "bdata": "a3OroJwzHUDaCAG2yhMnQNvCvg/AHihAAzmdhzd3JEBpUfwMsL0fQBRwGzRf7iFADM7BwFoSI0AiO3J8IBkXQKLST6MINhVAaEuJlq2rFUBJS41BAp8UQEXHPewj8hVA7rdLrgD/GkAXY2fiPIsiQNSsyo9J3yJAN0FZcv/KJEAHgQ0jwVElQCrjVDCZOyZASsYoUOgiJkCe3MEbnrUmQK4TD8sVxidAaB0sMokvKEAe0RHVpbonQEB68ygaNydACiP+4roHJ0B8o31Fci4oQJja/wyj2ydAwozBY35gJkBj4tcSm5cfQElTgocxbyFAvdp6/0eKH0AvvKHlRLsaQB5QJiifNx1As4O8oNdKHkCKT4va+7QaQLyQVekajh1Avic0K9mJIEBHznhxkS8jQLaLST9RqyFARKpiSPNbJUCx+E+qlXApQB7ArHbrPiZAge3LijOsJEAsQzHhUUMlQFdvdnQ9bSVATozfCQNuJEDH/2Mk2gskQN4ULrUgOyNA13Yr4NVjI0DVkJ6JeKAiQFTODg4X9CJAtNbQn5lXIUAbiRVxf0AbQLhHJLhaxBNAkvnPQdDqF0CFBkWARqMTQLTaOPmxYxJAk9Ab42n0CkB3thrb7qcVQM61YTqg+hlA7BihuzJgG0CTg25o5ZUXQBas2yMByRxAOhOpQXohGkA+B493wG4aQJiNvJqtCxhAbja1WZUBF0B6S3l6Vw4ZQGTEMFaZCxVAZpBnZY38EUDjdE8SvHoSQGAPkLlyFBVACPXxSx8ZGEDyP5O1y+4WQNxvNAXYchVADCWcVbYwFUBS6YPG3nsUQA9/9Ey1AgtACVPw81EAEkAYy1VraBgOQIi+yCDeoApA9K5VE65QEECcHTs1jvwSQA6ouu4h+RVAR4iaSf5+F0D9DLl1lksaQL5ruvfKYhlAqkNIdScpG0DKmysmo6ocQCb2D5EetxtAhs+QspEcG0Af2ZeInsAaQFViXTC4oRlA0LE8lTL1F0DH/aOev1QYQIV2Xd/jjhtAzvhlQdOIGkBBFMj4Z20dQKdxjxgiYR5AbcfmJFJkHEA=",
          "dtype": "f8"
         }
        },
        {
         "fill": "toself",
         "fillcolor": "rgba(128,128,128,0.2)",
         "line": {
          "color": "rgba(255,255,255,0)"
         },
         "name": "95% Prediction Interval",
         "type": "scatter",
         "x": {
          "bdata": "AAECAwQFBgcICQoLDA0ODxAREhMUFRYXGBkaGxwdHh8gISIjJCUmJygpKissLS4vMDEyMzQ1Njc4OTo7PD0+P0BBQkNERUZHSElKS0xNTk9QUVJTVFVWV1hZWltcXV5fYGFiY2NiYWBfXl1cW1pZWFdWVVRTUlFQT05NTEtKSUhHRkVEQ0JBQD8+PTw7Ojk4NzY1NDMyMTAvLi0sKyopKCcmJSQjIiEgHx4dHBsaGRgXFhUUExIREA8ODQwLCgkIBwYFBAMCAQA=",
          "dtype": "i1"
         },
         "y": {
          "bdata": "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",
          "dtype": "f8"
         }
        }
       ],
       "layout": {
        "template": {
         "data": {
          "bar": [
           {
            "error_x": {
             "color": "#2a3f5f"
            },
            "error_y": {
             "color": "#2a3f5f"
            },
            "marker": {
             "line": {
              "color": "#E5ECF6",
              "width": 0.5
             },
             "pattern": {
              "fillmode": "overlay",
              "size": 10,
              "solidity": 0.2
             }
            },
            "type": "bar"
           }
          ],
          "barpolar": [
           {
            "marker": {
             "line": {
              "color": "#E5ECF6",
              "width": 0.5
             },
             "pattern": {
              "fillmode": "overlay",
              "size": 10,
              "solidity": 0.2
             }
            },
            "type": "barpolar"
           }
          ],
          "carpet": [
           {
            "aaxis": {
             "endlinecolor": "#2a3f5f",
             "gridcolor": "white",
             "linecolor": "white",
             "minorgridcolor": "white",
             "startlinecolor": "#2a3f5f"
            },
            "baxis": {
             "endlinecolor": "#2a3f5f",
             "gridcolor": "white",
             "linecolor": "white",
             "minorgridcolor": "white",
             "startlinecolor": "#2a3f5f"
            },
            "type": "carpet"
           }
          ],
          "choropleth": [
           {
            "colorbar": {
             "outlinewidth": 0,
             "ticks": ""
            },
            "type": "choropleth"
           }
          ],
          "contour": [
           {
            "colorbar": {
             "outlinewidth": 0,
             "ticks": ""
            },
            "colorscale": [
             [
              0,
              "#0d0887"
             ],
             [
              0.1111111111111111,
              "#46039f"
             ],
             [
              0.2222222222222222,
              "#7201a8"
             ],
             [
              0.3333333333333333,
              "#9c179e"
             ],
             [
              0.4444444444444444,
              "#bd3786"
             ],
             [
              0.5555555555555556,
              "#d8576b"
             ],
             [
              0.6666666666666666,
              "#ed7953"
             ],
             [
              0.7777777777777778,
              "#fb9f3a"
             ],
             [
              0.8888888888888888,
              "#fdca26"
             ],
             [
              1,
              "#f0f921"
             ]
            ],
            "type": "contour"
           }
          ],
          "contourcarpet": [
           {
            "colorbar": {
             "outlinewidth": 0,
             "ticks": ""
            },
            "type": "contourcarpet"
           }
          ],
          "heatmap": [
           {
            "colorbar": {
             "outlinewidth": 0,
             "ticks": ""
            },
            "colorscale": [
             [
              0,
              "#0d0887"
             ],
             [
              0.1111111111111111,
              "#46039f"
             ],
             [
              0.2222222222222222,
              "#7201a8"
             ],
             [
              0.3333333333333333,
              "#9c179e"
             ],
             [
              0.4444444444444444,
              "#bd3786"
             ],
             [
              0.5555555555555556,
              "#d8576b"
             ],
             [
              0.6666666666666666,
              "#ed7953"
             ],
             [
              0.7777777777777778,
              "#fb9f3a"
             ],
             [
              0.8888888888888888,
              "#fdca26"
             ],
             [
              1,
              "#f0f921"
             ]
            ],
            "type": "heatmap"
           }
          ],
          "histogram": [
           {
            "marker": {
             "pattern": {
              "fillmode": "overlay",
              "size": 10,
              "solidity": 0.2
             }
            },
            "type": "histogram"
           }
          ],
          "histogram2d": [
           {
            "colorbar": {
             "outlinewidth": 0,
             "ticks": ""
            },
            "colorscale": [
             [
              0,
              "#0d0887"
             ],
             [
              0.1111111111111111,
              "#46039f"
             ],
             [
              0.2222222222222222,
              "#7201a8"
             ],
             [
              0.3333333333333333,
              "#9c179e"
             ],
             [
              0.4444444444444444,
              "#bd3786"
             ],
             [
              0.5555555555555556,
              "#d8576b"
             ],
             [
              0.6666666666666666,
              "#ed7953"
             ],
             [
              0.7777777777777778,
              "#fb9f3a"
             ],
             [
              0.8888888888888888,
              "#fdca26"
             ],
             [
              1,
              "#f0f921"
             ]
            ],
            "type": "histogram2d"
           }
          ],
          "histogram2dcontour": [
           {
            "colorbar": {
             "outlinewidth": 0,
             "ticks": ""
            },
            "colorscale": [
             [
              0,
              "#0d0887"
             ],
             [
              0.1111111111111111,
              "#46039f"
             ],
             [
              0.2222222222222222,
              "#7201a8"
             ],
             [
              0.3333333333333333,
              "#9c179e"
             ],
             [
              0.4444444444444444,
              "#bd3786"
             ],
             [
              0.5555555555555556,
              "#d8576b"
             ],
             [
              0.6666666666666666,
              "#ed7953"
             ],
             [
              0.7777777777777778,
              "#fb9f3a"
             ],
             [
              0.8888888888888888,
              "#fdca26"
             ],
             [
              1,
              "#f0f921"
             ]
            ],
            "type": "histogram2dcontour"
           }
          ],
          "mesh3d": [
           {
            "colorbar": {
             "outlinewidth": 0,
             "ticks": ""
            },
            "type": "mesh3d"
           }
          ],
          "parcoords": [
           {
            "line": {
             "colorbar": {
              "outlinewidth": 0,
              "ticks": ""
             }
            },
            "type": "parcoords"
           }
          ],
          "pie": [
           {
            "automargin": true,
            "type": "pie"
           }
          ],
          "scatter": [
           {
            "fillpattern": {
             "fillmode": "overlay",
             "size": 10,
             "solidity": 0.2
            },
            "type": "scatter"
           }
          ],
          "scatter3d": [
           {
            "line": {
             "colorbar": {
              "outlinewidth": 0,
              "ticks": ""
             }
            },
            "marker": {
             "colorbar": {
              "outlinewidth": 0,
              "ticks": ""
             }
            },
            "type": "scatter3d"
           }
          ],
          "scattercarpet": [
           {
            "marker": {
             "colorbar": {
              "outlinewidth": 0,
              "ticks": ""
             }
            },
            "type": "scattercarpet"
           }
          ],
          "scattergeo": [
           {
            "marker": {
             "colorbar": {
              "outlinewidth": 0,
              "ticks": ""
             }
            },
            "type": "scattergeo"
           }
          ],
          "scattergl": [
           {
            "marker": {
             "colorbar": {
              "outlinewidth": 0,
              "ticks": ""
             }
            },
            "type": "scattergl"
           }
          ],
          "scattermap": [
           {
            "marker": {
             "colorbar": {
              "outlinewidth": 0,
              "ticks": ""
             }
            },
            "type": "scattermap"
           }
          ],
          "scattermapbox": [
           {
            "marker": {
             "colorbar": {
              "outlinewidth": 0,
              "ticks": ""
             }
            },
            "type": "scattermapbox"
           }
          ],
          "scatterpolar": [
           {
            "marker": {
             "colorbar": {
              "outlinewidth": 0,
              "ticks": ""
             }
            },
            "type": "scatterpolar"
           }
          ],
          "scatterpolargl": [
           {
            "marker": {
             "colorbar": {
              "outlinewidth": 0,
              "ticks": ""
             }
            },
            "type": "scatterpolargl"
           }
          ],
          "scatterternary": [
           {
            "marker": {
             "colorbar": {
              "outlinewidth": 0,
              "ticks": ""
             }
            },
            "type": "scatterternary"
           }
          ],
          "surface": [
           {
            "colorbar": {
             "outlinewidth": 0,
             "ticks": ""
            },
            "colorscale": [
             [
              0,
              "#0d0887"
             ],
             [
              0.1111111111111111,
              "#46039f"
             ],
             [
              0.2222222222222222,
              "#7201a8"
             ],
             [
              0.3333333333333333,
              "#9c179e"
             ],
             [
              0.4444444444444444,
              "#bd3786"
             ],
             [
              0.5555555555555556,
              "#d8576b"
             ],
             [
              0.6666666666666666,
              "#ed7953"
             ],
             [
              0.7777777777777778,
              "#fb9f3a"
             ],
             [
              0.8888888888888888,
              "#fdca26"
             ],
             [
              1,
              "#f0f921"
             ]
            ],
            "type": "surface"
           }
          ],
          "table": [
           {
            "cells": {
             "fill": {
              "color": "#EBF0F8"
             },
             "line": {
              "color": "white"
             }
            },
            "header": {
             "fill": {
              "color": "#C8D4E3"
             },
             "line": {
              "color": "white"
             }
            },
            "type": "table"
           }
          ]
         },
         "layout": {
          "annotationdefaults": {
           "arrowcolor": "#2a3f5f",
           "arrowhead": 0,
           "arrowwidth": 1
          },
          "autotypenumbers": "strict",
          "coloraxis": {
           "colorbar": {
            "outlinewidth": 0,
            "ticks": ""
           }
          },
          "colorscale": {
           "diverging": [
            [
             0,
             "#8e0152"
            ],
            [
             0.1,
             "#c51b7d"
            ],
            [
             0.2,
             "#de77ae"
            ],
            [
             0.3,
             "#f1b6da"
            ],
            [
             0.4,
             "#fde0ef"
            ],
            [
             0.5,
             "#f7f7f7"
            ],
            [
             0.6,
             "#e6f5d0"
            ],
            [
             0.7,
             "#b8e186"
            ],
            [
             0.8,
             "#7fbc41"
            ],
            [
             0.9,
             "#4d9221"
            ],
            [
             1,
             "#276419"
            ]
           ],
           "sequential": [
            [
             0,
             "#0d0887"
            ],
            [
             0.1111111111111111,
             "#46039f"
            ],
            [
             0.2222222222222222,
             "#7201a8"
            ],
            [
             0.3333333333333333,
             "#9c179e"
            ],
            [
             0.4444444444444444,
             "#bd3786"
            ],
            [
             0.5555555555555556,
             "#d8576b"
            ],
            [
             0.6666666666666666,
             "#ed7953"
            ],
            [
             0.7777777777777778,
             "#fb9f3a"
            ],
            [
             0.8888888888888888,
             "#fdca26"
            ],
            [
             1,
             "#f0f921"
            ]
           ],
           "sequentialminus": [
            [
             0,
             "#0d0887"
            ],
            [
             0.1111111111111111,
             "#46039f"
            ],
            [
             0.2222222222222222,
             "#7201a8"
            ],
            [
             0.3333333333333333,
             "#9c179e"
            ],
            [
             0.4444444444444444,
             "#bd3786"
            ],
            [
             0.5555555555555556,
             "#d8576b"
            ],
            [
             0.6666666666666666,
             "#ed7953"
            ],
            [
             0.7777777777777778,
             "#fb9f3a"
            ],
            [
             0.8888888888888888,
             "#fdca26"
            ],
            [
             1,
             "#f0f921"
            ]
           ]
          },
          "colorway": [
           "#636efa",
           "#EF553B",
           "#00cc96",
           "#ab63fa",
           "#FFA15A",
           "#19d3f3",
           "#FF6692",
           "#B6E880",
           "#FF97FF",
           "#FECB52"
          ],
          "font": {
           "color": "#2a3f5f"
          },
          "geo": {
           "bgcolor": "white",
           "lakecolor": "white",
           "landcolor": "#E5ECF6",
           "showlakes": true,
           "showland": true,
           "subunitcolor": "white"
          },
          "hoverlabel": {
           "align": "left"
          },
          "hovermode": "closest",
          "mapbox": {
           "style": "light"
          },
          "paper_bgcolor": "white",
          "plot_bgcolor": "#E5ECF6",
          "polar": {
           "angularaxis": {
            "gridcolor": "white",
            "linecolor": "white",
            "ticks": ""
           },
           "bgcolor": "#E5ECF6",
           "radialaxis": {
            "gridcolor": "white",
            "linecolor": "white",
            "ticks": ""
           }
          },
          "scene": {
           "xaxis": {
            "backgroundcolor": "#E5ECF6",
            "gridcolor": "white",
            "gridwidth": 2,
            "linecolor": "white",
            "showbackground": true,
            "ticks": "",
            "zerolinecolor": "white"
           },
           "yaxis": {
            "backgroundcolor": "#E5ECF6",
            "gridcolor": "white",
            "gridwidth": 2,
            "linecolor": "white",
            "showbackground": true,
            "ticks": "",
            "zerolinecolor": "white"
           },
           "zaxis": {
            "backgroundcolor": "#E5ECF6",
            "gridcolor": "white",
            "gridwidth": 2,
            "linecolor": "white",
            "showbackground": true,
            "ticks": "",
            "zerolinecolor": "white"
           }
          },
          "shapedefaults": {
           "line": {
            "color": "#2a3f5f"
           }
          },
          "ternary": {
           "aaxis": {
            "gridcolor": "white",
            "linecolor": "white",
            "ticks": ""
           },
           "baxis": {
            "gridcolor": "white",
            "linecolor": "white",
            "ticks": ""
           },
           "bgcolor": "#E5ECF6",
           "caxis": {
            "gridcolor": "white",
            "linecolor": "white",
            "ticks": ""
           }
          },
          "title": {
           "x": 0.05
          },
          "xaxis": {
           "automargin": true,
           "gridcolor": "white",
           "linecolor": "white",
           "ticks": "",
           "title": {
            "standoff": 15
           },
           "zerolinecolor": "white",
           "zerolinewidth": 2
          },
          "yaxis": {
           "automargin": true,
           "gridcolor": "white",
           "linecolor": "white",
           "ticks": "",
           "title": {
            "standoff": 15
           },
           "zerolinecolor": "white",
           "zerolinewidth": 2
          }
         }
        },
        "title": {
         "text": "Time Series Predictions (PICP: 99.46%, MPIW: 5.9334)"
        },
        "xaxis": {
         "title": {
          "text": "Time Step"
         }
        },
        "yaxis": {
         "title": {
          "text": "Value"
         }
        }
       }
      }
     },
     "metadata": {},
     "output_type": "display_data"
    }
   ],
   "source": [
    "import pandas as pd\n",
    "import numpy as np\n",
    "import torch\n",
    "import torch.nn as nn\n",
    "from torch.utils.data import Dataset, DataLoader\n",
    "import pytorch_lightning as pl\n",
    "from typing import Tuple, List\n",
    "import plotly.graph_objects as go\n",
    "import time  # Import time module\n",
    "\n",
    "# [Your existing classes: TimeSeriesDataset, GaussianLayer, DeepAR remain unchanged]\n",
    "\n",
    "def prepare_data(filepath: str):\n",
    "    try:\n",
    "        df = pd.read_csv(filepath, index_col='Date/Time', parse_dates=True)\n",
    "        df = df[df.index.minute == 0]\n",
    "        df = pd.DataFrame({'120m': df['120m']}, index=df.index)\n",
    "        \n",
    "        mean = df.mean()\n",
    "        std = df.std()\n",
    "        df_normalized = (df - mean) / std\n",
    "        \n",
    "        # Split sizes\n",
    "        train_size = 0.7\n",
    "        val_size = 0.15\n",
    "        test_size = 0.15\n",
    "        \n",
    "        # Calculate split indices\n",
    "        n = len(df_normalized)\n",
    "        train_end = int(n * train_size)\n",
    "        val_end = train_end + int(n * val_size)\n",
    "        \n",
    "        # Split data\n",
    "        train_data = df_normalized[:train_end]\n",
    "        val_data = df_normalized[train_end:val_end]\n",
    "        test_data = df_normalized[val_end:]\n",
    "        \n",
    "        return train_data, val_data, test_data, mean, std\n",
    "        \n",
    "    except Exception as e:\n",
    "        print(f\"Error loading data: {str(e)}\")\n",
    "        raise\n",
    "\n",
    "def compute_picp_mpiw(y_true, y_lower, y_upper):\n",
    "    \"\"\"\n",
    "    Compute Prediction Interval Coverage Probability (PICP) and Mean Prediction Interval Width (MPIW).\n",
    "    \n",
    "    Args:\n",
    "        y_true (np.ndarray): True target values.\n",
    "        y_lower (np.ndarray): Lower bounds of prediction intervals.\n",
    "        y_upper (np.ndarray): Upper bounds of prediction intervals.\n",
    "    \n",
    "    Returns:\n",
    "        picp (float): Prediction Interval Coverage Probability.\n",
    "        mpiw (float): Mean Prediction Interval Width.\n",
    "    \"\"\"\n",
    "    # Ensure inputs are flattened\n",
    "    y_true = y_true.flatten()\n",
    "    y_lower = y_lower.flatten()\n",
    "    y_upper = y_upper.flatten()\n",
    "    \n",
    "    # Calculate coverage\n",
    "    coverage = ((y_true >= y_lower) & (y_true <= y_upper)).mean()\n",
    "    \n",
    "    # Calculate average width\n",
    "    width = (y_upper - y_lower).mean()\n",
    "    \n",
    "    return coverage, width\n",
    "\n",
    "def main():\n",
    "    try:\n",
    "        # Parameters\n",
    "        SEQUENCE_LENGTH = 24\n",
    "        BATCH_SIZE = 32\n",
    "        MAX_EPOCHS = 100\n",
    "        \n",
    "        # Prepare data\n",
    "        train_data, val_data, test_data, mean, std = prepare_data(r\"D:\\drive-download-20240928T074710Z-001\\Data\\jaisalmer.csv\")\n",
    "        \n",
    "        # Create datasets\n",
    "        train_dataset = TimeSeriesDataset(train_data, SEQUENCE_LENGTH)\n",
    "        val_dataset = TimeSeriesDataset(val_data, SEQUENCE_LENGTH)\n",
    "        test_dataset = TimeSeriesDataset(test_data, SEQUENCE_LENGTH)\n",
    "        \n",
    "        # Create dataloaders (without multiprocessing)\n",
    "        train_loader = DataLoader(train_dataset, batch_size=BATCH_SIZE, shuffle=True)\n",
    "        val_loader = DataLoader(val_dataset, batch_size=BATCH_SIZE)\n",
    "        test_loader = DataLoader(test_dataset, batch_size=1)  # Using batch_size=1 for sequential prediction\n",
    "        \n",
    "        # Initialize model\n",
    "        model = DeepAR()\n",
    "        \n",
    "        # Configure trainer\n",
    "        trainer = pl.Trainer(\n",
    "            max_epochs=MAX_EPOCHS,\n",
    "            accelerator='auto',\n",
    "            devices=1,\n",
    "            callbacks=[\n",
    "                pl.callbacks.EarlyStopping(\n",
    "                    monitor='val_loss',\n",
    "                    patience=10,\n",
    "                    mode='min'\n",
    "                ),\n",
    "                pl.callbacks.ModelCheckpoint(\n",
    "                    monitor='val_loss',\n",
    "                    mode='min',\n",
    "                    filename='{epoch}-{val_loss:.2f}'\n",
    "                )\n",
    "            ]\n",
    "        )\n",
    "        \n",
    "        # Measure start time\n",
    "        start_time = time.time()\n",
    "        \n",
    "        # Train model\n",
    "        trainer.fit(model, train_loader, val_loader)\n",
    "        \n",
    "        # Measure end time\n",
    "        end_time = time.time()\n",
    "        \n",
    "        # Calculate training time\n",
    "        training_time_seconds = end_time - start_time\n",
    "        training_time_minutes = training_time_seconds / 60\n",
    "        \n",
    "        print(f\"Total Training Time: {training_time_seconds:.2f} seconds ({training_time_minutes:.2f} minutes)\")\n",
    "        \n",
    "        # Switch to evaluation mode\n",
    "        model.eval()\n",
    "        \n",
    "        # Lists to store all predictions and true values\n",
    "        all_y_true = []\n",
    "        all_y_pred = []\n",
    "        all_y_lower = []\n",
    "        all_y_upper = []\n",
    "        \n",
    "        # Iterate over the test_loader to collect predictions\n",
    "        for batch in test_loader:\n",
    "            x, y = batch  # x: [1, SEQUENCE_LENGTH, 1], y: [1, 1]\n",
    "            with torch.no_grad():\n",
    "                mu, sigma = model(x)  # mu and sigma: [1, 1]\n",
    "            \n",
    "            # Denormalize the data\n",
    "            y_true_denorm = y.numpy() * std.values + mean.values\n",
    "            y_pred_denorm = mu.cpu().numpy() * std.values + mean.values\n",
    "            y_lower_denorm = (mu - 2 * sigma).cpu().numpy() * std.values + mean.values\n",
    "            y_upper_denorm = (mu + 2 * sigma).cpu().numpy() * std.values + mean.values\n",
    "            \n",
    "            # Append to lists\n",
    "            all_y_true.append(y_true_denorm)\n",
    "            all_y_pred.append(y_pred_denorm)\n",
    "            all_y_lower.append(y_lower_denorm)\n",
    "            all_y_upper.append(y_upper_denorm)\n",
    "        \n",
    "        # Convert lists to numpy arrays\n",
    "        all_y_true = np.array(all_y_true)\n",
    "        all_y_pred = np.array(all_y_pred)\n",
    "        all_y_lower = np.array(all_y_lower)\n",
    "        all_y_upper = np.array(all_y_upper)\n",
    "        \n",
    "        # Calculate PICP and MPIW\n",
    "        picp, mpiw = compute_picp_mpiw(all_y_true, all_y_lower, all_y_upper)\n",
    "        print(f\"PICP: {picp*100:.2f}%\")\n",
    "        print(f\"MPIW: {mpiw:.4f}\")\n",
    "        \n",
    "        # For plotting, you might want to plot a subset (e.g., first 100 predictions)\n",
    "        plot_length = min(100, len(all_y_true))\n",
    "        y_true_plot = all_y_true[:plot_length]\n",
    "        y_pred_plot = all_y_pred[:plot_length]\n",
    "        y_lower_plot = all_y_lower[:plot_length]\n",
    "        y_upper_plot = all_y_upper[:plot_length]\n",
    "        \n",
    "        # Plot results with Prediction Intervals\n",
    "        fig = go.Figure()\n",
    "        x = np.arange(plot_length)\n",
    "        \n",
    "        fig.add_trace(go.Scatter(x=x, y=y_true_plot.flatten(), name='True Values', line=dict(color='blue')))\n",
    "        fig.add_trace(go.Scatter(x=x, y=y_pred_plot.flatten(), name='Predictions', line=dict(color='green')))\n",
    "        fig.add_trace(go.Scatter(\n",
    "            x=np.concatenate([x, x[::-1]]),\n",
    "            y=np.concatenate([y_upper_plot.flatten(), y_lower_plot.flatten()[::-1]]),\n",
    "            fill='toself',\n",
    "            fillcolor='rgba(128,128,128,0.2)',\n",
    "            line=dict(color='rgba(255,255,255,0)'),\n",
    "            name='95% Prediction Interval'\n",
    "        ))\n",
    "        \n",
    "        fig.update_layout(\n",
    "            title=f'Time Series Predictions (PICP: {picp*100:.2f}%, MPIW: {mpiw:.4f})',\n",
    "            xaxis_title='Time Step',\n",
    "            yaxis_title='Value'\n",
    "        )\n",
    "        fig.show()\n",
    "        \n",
    "    except Exception as e:\n",
    "        print(f\"Error in main execution: {str(e)}\")\n",
    "        raise\n",
    "\n",
    "if __name__ == \"__main__\":\n",
    "    main()\n"
   ]
  },
  {
   "cell_type": "code",
   "execution_count": 5,
   "metadata": {},
   "outputs": [
    {
     "name": "stdout",
     "output_type": "stream",
     "text": [
      "Note: you may need to restart the kernel to use updated packages.\n"
     ]
    }
   ],
   "source": [
    "pip install nbformat>=4.2.0"
   ]
  },
  {
   "cell_type": "code",
   "execution_count": 6,
   "metadata": {},
   "outputs": [
    {
     "name": "stdout",
     "output_type": "stream",
     "text": [
      "Requirement already satisfied: ipykernel in c:\\users\\aades_cuvnthj\\appdata\\roaming\\python\\python311\\site-packages (6.29.5)\n",
      "Requirement already satisfied: comm>=0.1.1 in c:\\users\\aades_cuvnthj\\appdata\\roaming\\python\\python311\\site-packages (from ipykernel) (0.2.2)\n",
      "Requirement already satisfied: debugpy>=1.6.5 in c:\\users\\aades_cuvnthj\\appdata\\roaming\\python\\python311\\site-packages (from ipykernel) (1.8.14)\n",
      "Requirement already satisfied: ipython>=7.23.1 in c:\\users\\aades_cuvnthj\\appdata\\roaming\\python\\python311\\site-packages (from ipykernel) (9.1.0)\n",
      "Requirement already satisfied: jupyter-client>=6.1.12 in c:\\users\\aades_cuvnthj\\appdata\\roaming\\python\\python311\\site-packages (from ipykernel) (8.6.3)\n",
      "Requirement already satisfied: jupyter-core!=5.0.*,>=4.12 in c:\\users\\aades_cuvnthj\\appdata\\roaming\\python\\python311\\site-packages (from ipykernel) (5.7.2)\n",
      "Requirement already satisfied: matplotlib-inline>=0.1 in c:\\users\\aades_cuvnthj\\appdata\\roaming\\python\\python311\\site-packages (from ipykernel) (0.1.7)\n",
      "Requirement already satisfied: nest-asyncio in c:\\users\\aades_cuvnthj\\appdata\\roaming\\python\\python311\\site-packages (from ipykernel) (1.6.0)\n",
      "Requirement already satisfied: packaging in c:\\users\\aades_cuvnthj\\appdata\\roaming\\python\\python311\\site-packages (from ipykernel) (25.0)\n",
      "Requirement already satisfied: psutil in c:\\users\\aades_cuvnthj\\appdata\\roaming\\python\\python311\\site-packages (from ipykernel) (7.0.0)\n",
      "Requirement already satisfied: pyzmq>=24 in c:\\users\\aades_cuvnthj\\appdata\\roaming\\python\\python311\\site-packages (from ipykernel) (26.4.0)\n",
      "Requirement already satisfied: tornado>=6.1 in c:\\users\\aades_cuvnthj\\appdata\\roaming\\python\\python311\\site-packages (from ipykernel) (6.4.2)\n",
      "Requirement already satisfied: traitlets>=5.4.0 in c:\\users\\aades_cuvnthj\\appdata\\roaming\\python\\python311\\site-packages (from ipykernel) (5.14.3)\n",
      "Requirement already satisfied: colorama in c:\\users\\aades_cuvnthj\\appdata\\roaming\\python\\python311\\site-packages (from ipython>=7.23.1->ipykernel) (0.4.6)\n",
      "Requirement already satisfied: decorator in c:\\users\\aades_cuvnthj\\appdata\\roaming\\python\\python311\\site-packages (from ipython>=7.23.1->ipykernel) (5.2.1)\n",
      "Requirement already satisfied: ipython-pygments-lexers in c:\\users\\aades_cuvnthj\\appdata\\roaming\\python\\python311\\site-packages (from ipython>=7.23.1->ipykernel) (1.1.1)\n",
      "Requirement already satisfied: jedi>=0.16 in c:\\users\\aades_cuvnthj\\appdata\\roaming\\python\\python311\\site-packages (from ipython>=7.23.1->ipykernel) (0.19.2)\n",
      "Requirement already satisfied: prompt_toolkit<3.1.0,>=3.0.41 in c:\\users\\aades_cuvnthj\\appdata\\roaming\\python\\python311\\site-packages (from ipython>=7.23.1->ipykernel) (3.0.51)\n",
      "Requirement already satisfied: pygments>=2.4.0 in c:\\users\\aades_cuvnthj\\appdata\\roaming\\python\\python311\\site-packages (from ipython>=7.23.1->ipykernel) (2.19.1)\n",
      "Requirement already satisfied: stack_data in c:\\users\\aades_cuvnthj\\appdata\\roaming\\python\\python311\\site-packages (from ipython>=7.23.1->ipykernel) (0.6.3)\n",
      "Requirement already satisfied: typing_extensions>=4.6 in c:\\users\\aades_cuvnthj\\appdata\\roaming\\python\\python311\\site-packages (from ipython>=7.23.1->ipykernel) (4.13.2)\n",
      "Requirement already satisfied: python-dateutil>=2.8.2 in c:\\users\\aades_cuvnthj\\appdata\\roaming\\python\\python311\\site-packages (from jupyter-client>=6.1.12->ipykernel) (2.9.0.post0)\n",
      "Requirement already satisfied: platformdirs>=2.5 in c:\\users\\aades_cuvnthj\\appdata\\roaming\\python\\python311\\site-packages (from jupyter-core!=5.0.*,>=4.12->ipykernel) (4.3.7)\n",
      "Requirement already satisfied: pywin32>=300 in c:\\users\\aades_cuvnthj\\appdata\\roaming\\python\\python311\\site-packages (from jupyter-core!=5.0.*,>=4.12->ipykernel) (310)\n",
      "Requirement already satisfied: parso<0.9.0,>=0.8.4 in c:\\users\\aades_cuvnthj\\appdata\\roaming\\python\\python311\\site-packages (from jedi>=0.16->ipython>=7.23.1->ipykernel) (0.8.4)\n",
      "Requirement already satisfied: wcwidth in c:\\users\\aades_cuvnthj\\appdata\\roaming\\python\\python311\\site-packages (from prompt_toolkit<3.1.0,>=3.0.41->ipython>=7.23.1->ipykernel) (0.2.13)\n",
      "Requirement already satisfied: six>=1.5 in c:\\users\\aades_cuvnthj\\appdata\\roaming\\python\\python311\\site-packages (from python-dateutil>=2.8.2->jupyter-client>=6.1.12->ipykernel) (1.17.0)\n",
      "Requirement already satisfied: executing>=1.2.0 in c:\\users\\aades_cuvnthj\\appdata\\roaming\\python\\python311\\site-packages (from stack_data->ipython>=7.23.1->ipykernel) (2.2.0)\n",
      "Requirement already satisfied: asttokens>=2.1.0 in c:\\users\\aades_cuvnthj\\appdata\\roaming\\python\\python311\\site-packages (from stack_data->ipython>=7.23.1->ipykernel) (3.0.0)\n",
      "Requirement already satisfied: pure-eval in c:\\users\\aades_cuvnthj\\appdata\\roaming\\python\\python311\\site-packages (from stack_data->ipython>=7.23.1->ipykernel) (0.2.3)\n",
      "Note: you may need to restart the kernel to use updated packages.\n"
     ]
    }
   ],
   "source": [
    "pip install ipykernel"
   ]
  },
  {
   "cell_type": "code",
   "execution_count": null,
   "metadata": {},
   "outputs": [],
   "source": []
  }
 ],
 "metadata": {
  "kernelspec": {
   "display_name": "Python 3",
   "language": "python",
   "name": "python3"
  },
  "language_info": {
   "codemirror_mode": {
    "name": "ipython",
    "version": 3
   },
   "file_extension": ".py",
   "mimetype": "text/x-python",
   "name": "python",
   "nbconvert_exporter": "python",
   "pygments_lexer": "ipython3",
   "version": "3.11.0"
  }
 },
 "nbformat": 4,
 "nbformat_minor": 2
}
