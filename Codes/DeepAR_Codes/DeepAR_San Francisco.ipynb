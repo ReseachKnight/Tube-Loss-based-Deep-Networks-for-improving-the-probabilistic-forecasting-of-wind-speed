{
 "cells": [
  {
   "cell_type": "code",
   "execution_count": 1,
   "metadata": {},
   "outputs": [],
   "source": [
    "import pandas as pd\n",
    "import numpy as np\n",
    "import torch\n",
    "import torch.nn as nn\n",
    "from torch.utils.data import Dataset, DataLoader\n",
    "import pytorch_lightning as pl\n",
    "from typing import Tuple, List\n",
    "import plotly.graph_objects as go\n",
    "import tensorflow as tf\n",
    "tf.keras.utils.set_random_seed(48)\n",
    "tf.config.experimental.enable_op_determinism()\n",
    "\n",
    "class TimeSeriesDataset(Dataset):\n",
    "    def __init__(self, data: pd.DataFrame, sequence_length: int):\n",
    "        self.data = torch.FloatTensor(data.values)\n",
    "        self.sequence_length = sequence_length\n",
    "\n",
    "    def __len__(self) -> int:\n",
    "        return len(self.data) - self.sequence_length\n",
    "\n",
    "    def __getitem__(self, idx: int) -> Tuple[torch.Tensor, torch.Tensor]:\n",
    "        return (\n",
    "            self.data[idx:idx + self.sequence_length],\n",
    "            self.data[idx + self.sequence_length]\n",
    "        )\n",
    "\n",
    "class GaussianLayer(nn.Module):\n",
    "    def __init__(self, input_dim: int, output_dim: int):\n",
    "        super().__init__()\n",
    "        self.mu_layer = nn.Linear(input_dim, output_dim)\n",
    "        self.sigma_layer = nn.Linear(input_dim, output_dim)\n",
    "        \n",
    "    def forward(self, x: torch.Tensor) -> Tuple[torch.Tensor, torch.Tensor]:\n",
    "        mu = self.mu_layer(x)\n",
    "        sigma = torch.log1p(torch.exp(self.sigma_layer(x))) + 1e-6\n",
    "        return mu, sigma\n",
    "\n",
    "class DeepAR(pl.LightningModule):\n",
    "    def __init__(\n",
    "        self,\n",
    "        input_size: int = 1,\n",
    "        hidden_size: int = 64,\n",
    "        num_layers: int = 2,\n",
    "        learning_rate: float = 1e-3\n",
    "    ):\n",
    "        super().__init__()\n",
    "        self.save_hyperparameters()\n",
    "        \n",
    "        self.lstm = nn.LSTM(\n",
    "            input_size=input_size,\n",
    "            hidden_size=hidden_size,\n",
    "            num_layers=num_layers,\n",
    "            batch_first=True\n",
    "        )\n",
    "        self.dense = nn.Linear(hidden_size, 32)\n",
    "        self.activation = nn.ReLU()\n",
    "        self.gaussian = GaussianLayer(32, input_size)\n",
    "        self.learning_rate = learning_rate\n",
    "        \n",
    "    def gaussian_loss(\n",
    "        self,\n",
    "        y_true: torch.Tensor,\n",
    "        mu: torch.Tensor,\n",
    "        sigma: torch.Tensor\n",
    "    ) -> torch.Tensor:\n",
    "        pi_tensor = torch.tensor(2 * np.pi, device=self.device, dtype=torch.float32)\n",
    "        return 0.5 * torch.mean(\n",
    "            torch.log(pi_tensor)\n",
    "            + torch.log(sigma)\n",
    "            + (y_true - mu)**2 / (sigma**2)\n",
    "        )\n",
    "\n",
    "    def forward(self, x: torch.Tensor) -> Tuple[torch.Tensor, torch.Tensor]:\n",
    "        lstm_out, _ = self.lstm(x)\n",
    "        dense_out = self.activation(self.dense(lstm_out[:, -1, :]))\n",
    "        mu, sigma = self.gaussian(dense_out)\n",
    "        return mu, sigma\n",
    "\n",
    "    def training_step(\n",
    "        self,\n",
    "        batch: Tuple[torch.Tensor, torch.Tensor],\n",
    "        batch_idx: int\n",
    "    ) -> torch.Tensor:\n",
    "        x, y = batch\n",
    "        mu, sigma = self(x)\n",
    "        loss = self.gaussian_loss(y, mu, sigma)\n",
    "        self.log('train_loss', loss, prog_bar=True)\n",
    "        return loss\n",
    "\n",
    "    def validation_step(\n",
    "        self,\n",
    "        batch: Tuple[torch.Tensor, torch.Tensor],\n",
    "        batch_idx: int\n",
    "    ) -> torch.Tensor:\n",
    "        x, y = batch\n",
    "        mu, sigma = self(x)\n",
    "        loss = self.gaussian_loss(y, mu, sigma)\n",
    "        self.log('val_loss', loss, prog_bar=True)\n",
    "        return loss\n",
    "\n",
    "    def configure_optimizers(self):\n",
    "        return torch.optim.Adam(self.parameters(), lr=self.learning_rate)\n"
   ]
  },
  {
   "cell_type": "code",
   "execution_count": 2,
   "metadata": {},
   "outputs": [
    {
     "name": "stderr",
     "output_type": "stream",
     "text": [
      "GPU available: False, used: False\n",
      "TPU available: False, using: 0 TPU cores\n",
      "HPU available: False, using: 0 HPUs\n",
      "\n",
      "  | Name       | Type          | Params | Mode \n",
      "-----------------------------------------------------\n",
      "0 | lstm       | LSTM          | 50.4 K | train\n",
      "1 | dense      | Linear        | 2.1 K  | train\n",
      "2 | activation | ReLU          | 0      | train\n",
      "3 | gaussian   | GaussianLayer | 66     | train\n",
      "-----------------------------------------------------\n",
      "52.6 K    Trainable params\n",
      "0         Non-trainable params\n",
      "52.6 K    Total params\n",
      "0.210     Total estimated model params size (MB)\n",
      "6         Modules in train mode\n",
      "0         Modules in eval mode\n"
     ]
    },
    {
     "name": "stdout",
     "output_type": "stream",
     "text": [
      "Sanity Checking: |          | 0/? [00:00<?, ?it/s]"
     ]
    },
    {
     "name": "stderr",
     "output_type": "stream",
     "text": [
      "d:\\Python3.11\\Lib\\site-packages\\pytorch_lightning\\trainer\\connectors\\data_connector.py:425: The 'val_dataloader' does not have many workers which may be a bottleneck. Consider increasing the value of the `num_workers` argument` to `num_workers=11` in the `DataLoader` to improve performance.\n"
     ]
    },
    {
     "name": "stdout",
     "output_type": "stream",
     "text": [
      "                                                                           "
     ]
    },
    {
     "name": "stderr",
     "output_type": "stream",
     "text": [
      "d:\\Python3.11\\Lib\\site-packages\\pytorch_lightning\\trainer\\connectors\\data_connector.py:425: The 'train_dataloader' does not have many workers which may be a bottleneck. Consider increasing the value of the `num_workers` argument` to `num_workers=11` in the `DataLoader` to improve performance.\n"
     ]
    },
    {
     "name": "stdout",
     "output_type": "stream",
     "text": [
      "Epoch 17: 100%|██████████| 575/575 [00:15<00:00, 37.23it/s, v_num=4, train_loss=0.647, val_loss=0.865]\n",
      "Total Training Time: 258.09 seconds (4.30 minutes)\n",
      "PICP: 98.67%\n",
      "MPIW: 6.3316\n"
     ]
    },
    {
     "data": {
      "application/vnd.plotly.v1+json": {
       "config": {
        "plotlyServerURL": "https://plot.ly"
       },
       "data": [
        {
         "line": {
          "color": "blue"
         },
         "name": "True Values",
         "type": "scatter",
         "x": {
          "bdata": "AAECAwQFBgcICQoLDA0ODxAREhMUFRYXGBkaGxwdHh8gISIjJCUmJygpKissLS4vMDEyMzQ1Njc4OTo7PD0+P0BBQkNERUZHSElKS0xNTk9QUVJTVFVWV1hZWltcXV5fYGFiYw==",
          "dtype": "i1"
         },
         "y": {
          "bdata": "EElkF67HIUDaFJ8lXI8kQDQLPM/MzCVAB09n1aPwJkCImmWSwvUmQNJbqIjC9SdA9s5NTuF6KEBE4hP7//8lQLNBSlyPQiJAM9O0R+F6GEBsbLpej8IUQBjdkJuZmRNA+2NConA9GkAy/Cm2HoUeQByRy3sULiBAFcIc33oUIEAyPTBbj8IcQDs1inA9ChhAiuHvw/UoFUBKEKj1KFwXQDu1IFO4HhtArHh51qNwHkBVGazhehQXQFgqVrgehRtAyMCbE67HIEAmbd6VmZklQFZ3HbIeBShAjGrc/v//JkDcO9Q2ClcmQBRWyJSZGSdA70ClVrieJkCnOumcmRkiQBBJZBeuxyFAcCD1PgpXIUCkfLcRrkcgQOej6kXheh1A5+Tw6lG4G0C4Qu2E61EZQF0PvVS4Hh9AKgZGCNejHECMsZP1KFwbQMcdCwrXoxhAqmeiOgrXE0Dz72o+CtcUQPa/4apH4RRAsI0PfBSuFUD7Y0KicD0aQCSjGHsUrhtAO3QarkfhHEAoFiDxKNwjQB64AI3C9SFAmDRQrUfhIUAyN1JE4XogQCIfdHM9CiJAUPNrZWZmG0ASdkp6FK4ZQPq7u3oUrhhA0BPvtx6FGkCGDWDD9SgcQMTwJKdwvSBAVdjSAQAAH0Byjg4M16MdQAxQCv7//x1AGimQxfUoIEAMUAr+//8dQKRBj4PrUR5AK3HfHoXrGECYewekcD0WQHi0IcP1KBNAiqDpHoXrFkDn5PDqUbgbQHKODgzXox1AvuZNfBSuHkDhZVoM1yMhQHJHKlC4HiNArsiRlML1I0AMOOcFAIAjQP7aj3E9iiFA45JtNDMzH0Css6FkZmYgQPNpRWBmZh9AoHEYF65HHkD4UsWQwvUbQHWfix2F6xtAEnZKehSuGUCUHGFmZmYYQEmQPtijcBpAtvA8CdejFkCUHGFmZmYYQL3rGoXrURhAp5crzszME0AnNqLWo3AWQLhC7YTrURlAj0RKFq5HHEDbnImG61EdQPNpRWBmZh9A/TcsLVyPH0BM3BA9CtcgQI2VKqRwvSFAGuiJIIXrIUA=",
          "dtype": "f8"
         }
        },
        {
         "line": {
          "color": "green"
         },
         "name": "Predictions",
         "type": "scatter",
         "x": {
          "bdata": "AAECAwQFBgcICQoLDA0ODxAREhMUFRYXGBkaGxwdHh8gISIjJCUmJygpKissLS4vMDEyMzQ1Njc4OTo7PD0+P0BBQkNERUZHSElKS0xNTk9QUVJTVFVWV1hZWltcXV5fYGFiYw==",
          "dtype": "i1"
         },
         "y": {
          "bdata": "3QXCFzYRH0C4m26ozFwjQHaWq2PhbSVA+uskMlHWJUD22jFN8uomQNTzU1ZDYiZAgIDNO2m4J0BSOwINLBsoQMafwJ+YrCRAsS8Rn6/iIEC742WH4YcVQO/x3guPBhRAErkxesP1E0D706IHj98ZQJfq/dSYRR1AMF9QljKvH0CtKI/kzOUeQCfMSJcZgxlAIrHxPkDnFECxRe/ii8wTQGuWr7DJbhZApartPQvpGUB5qxQcUG8eQK9bBMLMkxZApFnsfOOqG0C6Wt/WwV8hQK6gsrlkaSZA2rW+SaKqKEAyKksfU2wmQEhpbzj47iVAeEpw4OgPJ0AcNtVv8sQlQIsYpWFpyx9A6U5HUxKoIEBnn6NrgXQgQC76I4bBdh5Ah0/tXqN2G0A2cZojvEsaQKNasrLh+xdAOsZhWC6aHUAbGCZ+y1AaQJJvQ++NkRlAMEOpQbwiFkArXtoHmSsSQOpM+6cHmxRAFNXa3+HBFEDJxRWyW5QWQGKCoe+vNRxA9Vb7GYZ0HUAytZsVFOMeQIYCuH/SCCVAI/2yoEL+IUDmHEokKPMhQBsN5HBGASBAlk9kXbSCIUDLtrKQZv4ZQAKLpJrM0RhAdmDwzOcBGUCk604o7xMaQMoeOe/RQBtA0Rh072wEIEAmh4kbjskdQKw8orYNTBxANerGrFwUHEAgHng8y94dQAKUvlaJMxtAKLxhGUIZG0AeYbhNvJkWQF9nPQwa9BVAVn+aN2+9E0BEhioOvMYYQFna7Gh/uh1AsSToIipnH0A1CtXNrxsgQD42OENk9SFAQBIAXsCcI0D06BMTHdQjQCCG1pkXACNAM8yDiQagIEDCQxw4FmEdQFZivtwTmx9AZHhK9+gMHkA1RFbJrAAdQN+6S/1oNBtAoAXh4mRuG0B2W7hnikUZQOiudjWRSRhAAG4hHdgEGkBKsdrYCFAVQLGy8rR3ahdA4abTaxmAFkAxKFt0Q+gRQOba04U8JhZAS5jcffzBGUAa+H2ai5QdQG0Z/X28ox5AMUzmC2SLIECoI6906D8gQNWIXBskXiFAsXCjtd78IUA=",
          "dtype": "f8"
         }
        },
        {
         "fill": "toself",
         "fillcolor": "rgba(128,128,128,0.2)",
         "line": {
          "color": "rgba(255,255,255,0)"
         },
         "name": "95% Prediction Interval",
         "type": "scatter",
         "x": {
          "bdata": "AAECAwQFBgcICQoLDA0ODxAREhMUFRYXGBkaGxwdHh8gISIjJCUmJygpKissLS4vMDEyMzQ1Njc4OTo7PD0+P0BBQkNERUZHSElKS0xNTk9QUVJTVFVWV1hZWltcXV5fYGFiY2NiYWBfXl1cW1pZWFdWVVRTUlFQT05NTEtKSUhHRkVEQ0JBQD8+PTw7Ojk4NzY1NDMyMTAvLi0sKyopKCcmJSQjIiEgHx4dHBsaGRgXFhUUExIREA8ODQwLCgkIBwYFBAMCAQA=",
          "dtype": "i1"
         },
         "y": {
          "bdata": "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",
          "dtype": "f8"
         }
        }
       ],
       "layout": {
        "template": {
         "data": {
          "bar": [
           {
            "error_x": {
             "color": "#2a3f5f"
            },
            "error_y": {
             "color": "#2a3f5f"
            },
            "marker": {
             "line": {
              "color": "#E5ECF6",
              "width": 0.5
             },
             "pattern": {
              "fillmode": "overlay",
              "size": 10,
              "solidity": 0.2
             }
            },
            "type": "bar"
           }
          ],
          "barpolar": [
           {
            "marker": {
             "line": {
              "color": "#E5ECF6",
              "width": 0.5
             },
             "pattern": {
              "fillmode": "overlay",
              "size": 10,
              "solidity": 0.2
             }
            },
            "type": "barpolar"
           }
          ],
          "carpet": [
           {
            "aaxis": {
             "endlinecolor": "#2a3f5f",
             "gridcolor": "white",
             "linecolor": "white",
             "minorgridcolor": "white",
             "startlinecolor": "#2a3f5f"
            },
            "baxis": {
             "endlinecolor": "#2a3f5f",
             "gridcolor": "white",
             "linecolor": "white",
             "minorgridcolor": "white",
             "startlinecolor": "#2a3f5f"
            },
            "type": "carpet"
           }
          ],
          "choropleth": [
           {
            "colorbar": {
             "outlinewidth": 0,
             "ticks": ""
            },
            "type": "choropleth"
           }
          ],
          "contour": [
           {
            "colorbar": {
             "outlinewidth": 0,
             "ticks": ""
            },
            "colorscale": [
             [
              0,
              "#0d0887"
             ],
             [
              0.1111111111111111,
              "#46039f"
             ],
             [
              0.2222222222222222,
              "#7201a8"
             ],
             [
              0.3333333333333333,
              "#9c179e"
             ],
             [
              0.4444444444444444,
              "#bd3786"
             ],
             [
              0.5555555555555556,
              "#d8576b"
             ],
             [
              0.6666666666666666,
              "#ed7953"
             ],
             [
              0.7777777777777778,
              "#fb9f3a"
             ],
             [
              0.8888888888888888,
              "#fdca26"
             ],
             [
              1,
              "#f0f921"
             ]
            ],
            "type": "contour"
           }
          ],
          "contourcarpet": [
           {
            "colorbar": {
             "outlinewidth": 0,
             "ticks": ""
            },
            "type": "contourcarpet"
           }
          ],
          "heatmap": [
           {
            "colorbar": {
             "outlinewidth": 0,
             "ticks": ""
            },
            "colorscale": [
             [
              0,
              "#0d0887"
             ],
             [
              0.1111111111111111,
              "#46039f"
             ],
             [
              0.2222222222222222,
              "#7201a8"
             ],
             [
              0.3333333333333333,
              "#9c179e"
             ],
             [
              0.4444444444444444,
              "#bd3786"
             ],
             [
              0.5555555555555556,
              "#d8576b"
             ],
             [
              0.6666666666666666,
              "#ed7953"
             ],
             [
              0.7777777777777778,
              "#fb9f3a"
             ],
             [
              0.8888888888888888,
              "#fdca26"
             ],
             [
              1,
              "#f0f921"
             ]
            ],
            "type": "heatmap"
           }
          ],
          "histogram": [
           {
            "marker": {
             "pattern": {
              "fillmode": "overlay",
              "size": 10,
              "solidity": 0.2
             }
            },
            "type": "histogram"
           }
          ],
          "histogram2d": [
           {
            "colorbar": {
             "outlinewidth": 0,
             "ticks": ""
            },
            "colorscale": [
             [
              0,
              "#0d0887"
             ],
             [
              0.1111111111111111,
              "#46039f"
             ],
             [
              0.2222222222222222,
              "#7201a8"
             ],
             [
              0.3333333333333333,
              "#9c179e"
             ],
             [
              0.4444444444444444,
              "#bd3786"
             ],
             [
              0.5555555555555556,
              "#d8576b"
             ],
             [
              0.6666666666666666,
              "#ed7953"
             ],
             [
              0.7777777777777778,
              "#fb9f3a"
             ],
             [
              0.8888888888888888,
              "#fdca26"
             ],
             [
              1,
              "#f0f921"
             ]
            ],
            "type": "histogram2d"
           }
          ],
          "histogram2dcontour": [
           {
            "colorbar": {
             "outlinewidth": 0,
             "ticks": ""
            },
            "colorscale": [
             [
              0,
              "#0d0887"
             ],
             [
              0.1111111111111111,
              "#46039f"
             ],
             [
              0.2222222222222222,
              "#7201a8"
             ],
             [
              0.3333333333333333,
              "#9c179e"
             ],
             [
              0.4444444444444444,
              "#bd3786"
             ],
             [
              0.5555555555555556,
              "#d8576b"
             ],
             [
              0.6666666666666666,
              "#ed7953"
             ],
             [
              0.7777777777777778,
              "#fb9f3a"
             ],
             [
              0.8888888888888888,
              "#fdca26"
             ],
             [
              1,
              "#f0f921"
             ]
            ],
            "type": "histogram2dcontour"
           }
          ],
          "mesh3d": [
           {
            "colorbar": {
             "outlinewidth": 0,
             "ticks": ""
            },
            "type": "mesh3d"
           }
          ],
          "parcoords": [
           {
            "line": {
             "colorbar": {
              "outlinewidth": 0,
              "ticks": ""
             }
            },
            "type": "parcoords"
           }
          ],
          "pie": [
           {
            "automargin": true,
            "type": "pie"
           }
          ],
          "scatter": [
           {
            "fillpattern": {
             "fillmode": "overlay",
             "size": 10,
             "solidity": 0.2
            },
            "type": "scatter"
           }
          ],
          "scatter3d": [
           {
            "line": {
             "colorbar": {
              "outlinewidth": 0,
              "ticks": ""
             }
            },
            "marker": {
             "colorbar": {
              "outlinewidth": 0,
              "ticks": ""
             }
            },
            "type": "scatter3d"
           }
          ],
          "scattercarpet": [
           {
            "marker": {
             "colorbar": {
              "outlinewidth": 0,
              "ticks": ""
             }
            },
            "type": "scattercarpet"
           }
          ],
          "scattergeo": [
           {
            "marker": {
             "colorbar": {
              "outlinewidth": 0,
              "ticks": ""
             }
            },
            "type": "scattergeo"
           }
          ],
          "scattergl": [
           {
            "marker": {
             "colorbar": {
              "outlinewidth": 0,
              "ticks": ""
             }
            },
            "type": "scattergl"
           }
          ],
          "scattermap": [
           {
            "marker": {
             "colorbar": {
              "outlinewidth": 0,
              "ticks": ""
             }
            },
            "type": "scattermap"
           }
          ],
          "scattermapbox": [
           {
            "marker": {
             "colorbar": {
              "outlinewidth": 0,
              "ticks": ""
             }
            },
            "type": "scattermapbox"
           }
          ],
          "scatterpolar": [
           {
            "marker": {
             "colorbar": {
              "outlinewidth": 0,
              "ticks": ""
             }
            },
            "type": "scatterpolar"
           }
          ],
          "scatterpolargl": [
           {
            "marker": {
             "colorbar": {
              "outlinewidth": 0,
              "ticks": ""
             }
            },
            "type": "scatterpolargl"
           }
          ],
          "scatterternary": [
           {
            "marker": {
             "colorbar": {
              "outlinewidth": 0,
              "ticks": ""
             }
            },
            "type": "scatterternary"
           }
          ],
          "surface": [
           {
            "colorbar": {
             "outlinewidth": 0,
             "ticks": ""
            },
            "colorscale": [
             [
              0,
              "#0d0887"
             ],
             [
              0.1111111111111111,
              "#46039f"
             ],
             [
              0.2222222222222222,
              "#7201a8"
             ],
             [
              0.3333333333333333,
              "#9c179e"
             ],
             [
              0.4444444444444444,
              "#bd3786"
             ],
             [
              0.5555555555555556,
              "#d8576b"
             ],
             [
              0.6666666666666666,
              "#ed7953"
             ],
             [
              0.7777777777777778,
              "#fb9f3a"
             ],
             [
              0.8888888888888888,
              "#fdca26"
             ],
             [
              1,
              "#f0f921"
             ]
            ],
            "type": "surface"
           }
          ],
          "table": [
           {
            "cells": {
             "fill": {
              "color": "#EBF0F8"
             },
             "line": {
              "color": "white"
             }
            },
            "header": {
             "fill": {
              "color": "#C8D4E3"
             },
             "line": {
              "color": "white"
             }
            },
            "type": "table"
           }
          ]
         },
         "layout": {
          "annotationdefaults": {
           "arrowcolor": "#2a3f5f",
           "arrowhead": 0,
           "arrowwidth": 1
          },
          "autotypenumbers": "strict",
          "coloraxis": {
           "colorbar": {
            "outlinewidth": 0,
            "ticks": ""
           }
          },
          "colorscale": {
           "diverging": [
            [
             0,
             "#8e0152"
            ],
            [
             0.1,
             "#c51b7d"
            ],
            [
             0.2,
             "#de77ae"
            ],
            [
             0.3,
             "#f1b6da"
            ],
            [
             0.4,
             "#fde0ef"
            ],
            [
             0.5,
             "#f7f7f7"
            ],
            [
             0.6,
             "#e6f5d0"
            ],
            [
             0.7,
             "#b8e186"
            ],
            [
             0.8,
             "#7fbc41"
            ],
            [
             0.9,
             "#4d9221"
            ],
            [
             1,
             "#276419"
            ]
           ],
           "sequential": [
            [
             0,
             "#0d0887"
            ],
            [
             0.1111111111111111,
             "#46039f"
            ],
            [
             0.2222222222222222,
             "#7201a8"
            ],
            [
             0.3333333333333333,
             "#9c179e"
            ],
            [
             0.4444444444444444,
             "#bd3786"
            ],
            [
             0.5555555555555556,
             "#d8576b"
            ],
            [
             0.6666666666666666,
             "#ed7953"
            ],
            [
             0.7777777777777778,
             "#fb9f3a"
            ],
            [
             0.8888888888888888,
             "#fdca26"
            ],
            [
             1,
             "#f0f921"
            ]
           ],
           "sequentialminus": [
            [
             0,
             "#0d0887"
            ],
            [
             0.1111111111111111,
             "#46039f"
            ],
            [
             0.2222222222222222,
             "#7201a8"
            ],
            [
             0.3333333333333333,
             "#9c179e"
            ],
            [
             0.4444444444444444,
             "#bd3786"
            ],
            [
             0.5555555555555556,
             "#d8576b"
            ],
            [
             0.6666666666666666,
             "#ed7953"
            ],
            [
             0.7777777777777778,
             "#fb9f3a"
            ],
            [
             0.8888888888888888,
             "#fdca26"
            ],
            [
             1,
             "#f0f921"
            ]
           ]
          },
          "colorway": [
           "#636efa",
           "#EF553B",
           "#00cc96",
           "#ab63fa",
           "#FFA15A",
           "#19d3f3",
           "#FF6692",
           "#B6E880",
           "#FF97FF",
           "#FECB52"
          ],
          "font": {
           "color": "#2a3f5f"
          },
          "geo": {
           "bgcolor": "white",
           "lakecolor": "white",
           "landcolor": "#E5ECF6",
           "showlakes": true,
           "showland": true,
           "subunitcolor": "white"
          },
          "hoverlabel": {
           "align": "left"
          },
          "hovermode": "closest",
          "mapbox": {
           "style": "light"
          },
          "paper_bgcolor": "white",
          "plot_bgcolor": "#E5ECF6",
          "polar": {
           "angularaxis": {
            "gridcolor": "white",
            "linecolor": "white",
            "ticks": ""
           },
           "bgcolor": "#E5ECF6",
           "radialaxis": {
            "gridcolor": "white",
            "linecolor": "white",
            "ticks": ""
           }
          },
          "scene": {
           "xaxis": {
            "backgroundcolor": "#E5ECF6",
            "gridcolor": "white",
            "gridwidth": 2,
            "linecolor": "white",
            "showbackground": true,
            "ticks": "",
            "zerolinecolor": "white"
           },
           "yaxis": {
            "backgroundcolor": "#E5ECF6",
            "gridcolor": "white",
            "gridwidth": 2,
            "linecolor": "white",
            "showbackground": true,
            "ticks": "",
            "zerolinecolor": "white"
           },
           "zaxis": {
            "backgroundcolor": "#E5ECF6",
            "gridcolor": "white",
            "gridwidth": 2,
            "linecolor": "white",
            "showbackground": true,
            "ticks": "",
            "zerolinecolor": "white"
           }
          },
          "shapedefaults": {
           "line": {
            "color": "#2a3f5f"
           }
          },
          "ternary": {
           "aaxis": {
            "gridcolor": "white",
            "linecolor": "white",
            "ticks": ""
           },
           "baxis": {
            "gridcolor": "white",
            "linecolor": "white",
            "ticks": ""
           },
           "bgcolor": "#E5ECF6",
           "caxis": {
            "gridcolor": "white",
            "linecolor": "white",
            "ticks": ""
           }
          },
          "title": {
           "x": 0.05
          },
          "xaxis": {
           "automargin": true,
           "gridcolor": "white",
           "linecolor": "white",
           "ticks": "",
           "title": {
            "standoff": 15
           },
           "zerolinecolor": "white",
           "zerolinewidth": 2
          },
          "yaxis": {
           "automargin": true,
           "gridcolor": "white",
           "linecolor": "white",
           "ticks": "",
           "title": {
            "standoff": 15
           },
           "zerolinecolor": "white",
           "zerolinewidth": 2
          }
         }
        },
        "title": {
         "text": "Time Series Predictions (PICP: 98.67%, MPIW: 6.3316)"
        },
        "xaxis": {
         "title": {
          "text": "Time Step"
         }
        },
        "yaxis": {
         "title": {
          "text": "Value"
         }
        }
       }
      }
     },
     "metadata": {},
     "output_type": "display_data"
    }
   ],
   "source": [
    "import pandas as pd\n",
    "import numpy as np\n",
    "import torch\n",
    "import torch.nn as nn\n",
    "from torch.utils.data import Dataset, DataLoader\n",
    "import pytorch_lightning as pl\n",
    "from typing import Tuple, List\n",
    "import plotly.graph_objects as go\n",
    "import time  # Import time module\n",
    "\n",
    "# [Your existing classes: TimeSeriesDataset, GaussianLayer, DeepAR remain unchanged]\n",
    "\n",
    "def prepare_data(filepath: str):\n",
    "    try:\n",
    "        df = pd.read_csv(filepath, index_col='Date/Time', parse_dates=True)\n",
    "        df = df[df.index.minute == 0]\n",
    "        df = pd.DataFrame({'120m': df['120m']}, index=df.index)\n",
    "        \n",
    "        mean = df.mean()\n",
    "        std = df.std()\n",
    "        df_normalized = (df - mean) / std\n",
    "        \n",
    "        # Split sizes\n",
    "        train_size = 0.7\n",
    "        val_size = 0.15\n",
    "        test_size = 0.15\n",
    "        \n",
    "        # Calculate split indices\n",
    "        n = len(df_normalized)\n",
    "        train_end = int(n * train_size)\n",
    "        val_end = train_end + int(n * val_size)\n",
    "        \n",
    "        # Split data\n",
    "        train_data = df_normalized[:train_end]\n",
    "        val_data = df_normalized[train_end:val_end]\n",
    "        test_data = df_normalized[val_end:]\n",
    "        \n",
    "        return train_data, val_data, test_data, mean, std\n",
    "        \n",
    "    except Exception as e:\n",
    "        print(f\"Error loading data: {str(e)}\")\n",
    "        raise\n",
    "\n",
    "def compute_picp_mpiw(y_true, y_lower, y_upper):\n",
    "    \"\"\"\n",
    "    Compute Prediction Interval Coverage Probability (PICP) and Mean Prediction Interval Width (MPIW).\n",
    "    \n",
    "    Args:\n",
    "        y_true (np.ndarray): True target values.\n",
    "        y_lower (np.ndarray): Lower bounds of prediction intervals.\n",
    "        y_upper (np.ndarray): Upper bounds of prediction intervals.\n",
    "    \n",
    "    Returns:\n",
    "        picp (float): Prediction Interval Coverage Probability.\n",
    "        mpiw (float): Mean Prediction Interval Width.\n",
    "    \"\"\"\n",
    "    # Ensure inputs are flattened\n",
    "    y_true = y_true.flatten()\n",
    "    y_lower = y_lower.flatten()\n",
    "    y_upper = y_upper.flatten()\n",
    "    \n",
    "    # Calculate coverage\n",
    "    coverage = ((y_true >= y_lower) & (y_true <= y_upper)).mean()\n",
    "    \n",
    "    # Calculate average width\n",
    "    width = (y_upper - y_lower).mean()\n",
    "    \n",
    "    return coverage, width\n",
    "\n",
    "def main():\n",
    "    try:\n",
    "        # Parameters\n",
    "        SEQUENCE_LENGTH = 24\n",
    "        BATCH_SIZE = 32\n",
    "        MAX_EPOCHS = 100\n",
    "        \n",
    "        # Prepare data\n",
    "        train_data, val_data, test_data, mean, std = prepare_data(r\"D:\\drive-download-20240928T074710Z-001\\Data\\san francisco.csv\")\n",
    "        \n",
    "        # Create datasets\n",
    "        train_dataset = TimeSeriesDataset(train_data, SEQUENCE_LENGTH)\n",
    "        val_dataset = TimeSeriesDataset(val_data, SEQUENCE_LENGTH)\n",
    "        test_dataset = TimeSeriesDataset(test_data, SEQUENCE_LENGTH)\n",
    "        \n",
    "        # Create dataloaders (without multiprocessing)\n",
    "        train_loader = DataLoader(train_dataset, batch_size=BATCH_SIZE, shuffle=True)\n",
    "        val_loader = DataLoader(val_dataset, batch_size=BATCH_SIZE)\n",
    "        test_loader = DataLoader(test_dataset, batch_size=1)  # Using batch_size=1 for sequential prediction\n",
    "        \n",
    "        # Initialize model\n",
    "        model = DeepAR()\n",
    "        \n",
    "        # Configure trainer\n",
    "        trainer = pl.Trainer(\n",
    "            max_epochs=MAX_EPOCHS,\n",
    "            accelerator='auto',\n",
    "            devices=1,\n",
    "            callbacks=[\n",
    "                pl.callbacks.EarlyStopping(\n",
    "                    monitor='val_loss',\n",
    "                    patience=10,\n",
    "                    mode='min'\n",
    "                ),\n",
    "                pl.callbacks.ModelCheckpoint(\n",
    "                    monitor='val_loss',\n",
    "                    mode='min',\n",
    "                    filename='{epoch}-{val_loss:.2f}'\n",
    "                )\n",
    "            ]\n",
    "        )\n",
    "        \n",
    "        # Measure start time\n",
    "        start_time = time.time()\n",
    "        \n",
    "        # Train model\n",
    "        trainer.fit(model, train_loader, val_loader)\n",
    "        \n",
    "        # Measure end time\n",
    "        end_time = time.time()\n",
    "        \n",
    "        # Calculate training time\n",
    "        training_time_seconds = end_time - start_time\n",
    "        training_time_minutes = training_time_seconds / 60\n",
    "        \n",
    "        print(f\"Total Training Time: {training_time_seconds:.2f} seconds ({training_time_minutes:.2f} minutes)\")\n",
    "        \n",
    "        # Switch to evaluation mode\n",
    "        model.eval()\n",
    "        \n",
    "        # Lists to store all predictions and true values\n",
    "        all_y_true = []\n",
    "        all_y_pred = []\n",
    "        all_y_lower = []\n",
    "        all_y_upper = []\n",
    "        \n",
    "        # Iterate over the test_loader to collect predictions\n",
    "        for batch in test_loader:\n",
    "            x, y = batch  # x: [1, SEQUENCE_LENGTH, 1], y: [1, 1]\n",
    "            with torch.no_grad():\n",
    "                mu, sigma = model(x)  # mu and sigma: [1, 1]\n",
    "            \n",
    "            # Denormalize the data\n",
    "            y_true_denorm = y.numpy() * std.values + mean.values\n",
    "            y_pred_denorm = mu.cpu().numpy() * std.values + mean.values\n",
    "            y_lower_denorm = (mu - 2 * sigma).cpu().numpy() * std.values + mean.values\n",
    "            y_upper_denorm = (mu + 2 * sigma).cpu().numpy() * std.values + mean.values\n",
    "            \n",
    "            # Append to lists\n",
    "            all_y_true.append(y_true_denorm)\n",
    "            all_y_pred.append(y_pred_denorm)\n",
    "            all_y_lower.append(y_lower_denorm)\n",
    "            all_y_upper.append(y_upper_denorm)\n",
    "        \n",
    "        # Convert lists to numpy arrays\n",
    "        all_y_true = np.array(all_y_true)\n",
    "        all_y_pred = np.array(all_y_pred)\n",
    "        all_y_lower = np.array(all_y_lower)\n",
    "        all_y_upper = np.array(all_y_upper)\n",
    "        \n",
    "        # Calculate PICP and MPIW\n",
    "        picp, mpiw = compute_picp_mpiw(all_y_true, all_y_lower, all_y_upper)\n",
    "        print(f\"PICP: {picp*100:.2f}%\")\n",
    "        print(f\"MPIW: {mpiw:.4f}\")\n",
    "        \n",
    "        # For plotting, you might want to plot a subset (e.g., first 100 predictions)\n",
    "        plot_length = min(100, len(all_y_true))\n",
    "        y_true_plot = all_y_true[:plot_length]\n",
    "        y_pred_plot = all_y_pred[:plot_length]\n",
    "        y_lower_plot = all_y_lower[:plot_length]\n",
    "        y_upper_plot = all_y_upper[:plot_length]\n",
    "        \n",
    "        # Plot results with Prediction Intervals\n",
    "        fig = go.Figure()\n",
    "        x = np.arange(plot_length)\n",
    "        \n",
    "        fig.add_trace(go.Scatter(x=x, y=y_true_plot.flatten(), name='True Values', line=dict(color='blue')))\n",
    "        fig.add_trace(go.Scatter(x=x, y=y_pred_plot.flatten(), name='Predictions', line=dict(color='green')))\n",
    "        fig.add_trace(go.Scatter(\n",
    "            x=np.concatenate([x, x[::-1]]),\n",
    "            y=np.concatenate([y_upper_plot.flatten(), y_lower_plot.flatten()[::-1]]),\n",
    "            fill='toself',\n",
    "            fillcolor='rgba(128,128,128,0.2)',\n",
    "            line=dict(color='rgba(255,255,255,0)'),\n",
    "            name='95% Prediction Interval'\n",
    "        ))\n",
    "        \n",
    "        fig.update_layout(\n",
    "            title=f'Time Series Predictions (PICP: {picp*100:.2f}%, MPIW: {mpiw:.4f})',\n",
    "            xaxis_title='Time Step',\n",
    "            yaxis_title='Value'\n",
    "        )\n",
    "        fig.show()\n",
    "        \n",
    "    except Exception as e:\n",
    "        print(f\"Error in main execution: {str(e)}\")\n",
    "        raise\n",
    "\n",
    "if __name__ == \"__main__\":\n",
    "    main()\n"
   ]
  },
  {
   "cell_type": "code",
   "execution_count": null,
   "metadata": {},
   "outputs": [],
   "source": []
  }
 ],
 "metadata": {
  "kernelspec": {
   "display_name": "Python 3",
   "language": "python",
   "name": "python3"
  },
  "language_info": {
   "codemirror_mode": {
    "name": "ipython",
    "version": 3
   },
   "file_extension": ".py",
   "mimetype": "text/x-python",
   "name": "python",
   "nbconvert_exporter": "python",
   "pygments_lexer": "ipython3",
   "version": "3.11.0"
  }
 },
 "nbformat": 4,
 "nbformat_minor": 2
}
