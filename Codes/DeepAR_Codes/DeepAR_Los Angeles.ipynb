{
 "cells": [
  {
   "cell_type": "code",
   "execution_count": 1,
   "metadata": {},
   "outputs": [],
   "source": [
    "import pandas as pd\n",
    "import numpy as np\n",
    "import torch\n",
    "import torch.nn as nn\n",
    "from torch.utils.data import Dataset, DataLoader\n",
    "import pytorch_lightning as pl\n",
    "from typing import Tuple, List\n",
    "import plotly.graph_objects as go\n",
    "\n",
    "class TimeSeriesDataset(Dataset):\n",
    "    def __init__(self, data: pd.DataFrame, sequence_length: int):\n",
    "        self.data = torch.FloatTensor(data.values)\n",
    "        self.sequence_length = sequence_length\n",
    "\n",
    "    def __len__(self) -> int:\n",
    "        return len(self.data) - self.sequence_length\n",
    "\n",
    "    def __getitem__(self, idx: int) -> Tuple[torch.Tensor, torch.Tensor]:\n",
    "        return (\n",
    "            self.data[idx:idx + self.sequence_length],\n",
    "            self.data[idx + self.sequence_length]\n",
    "        )\n",
    "\n",
    "class GaussianLayer(nn.Module):\n",
    "    def __init__(self, input_dim: int, output_dim: int):\n",
    "        super().__init__()\n",
    "        self.mu_layer = nn.Linear(input_dim, output_dim)\n",
    "        self.sigma_layer = nn.Linear(input_dim, output_dim)\n",
    "        \n",
    "    def forward(self, x: torch.Tensor) -> Tuple[torch.Tensor, torch.Tensor]:\n",
    "        mu = self.mu_layer(x)\n",
    "        sigma = torch.log1p(torch.exp(self.sigma_layer(x))) + 1e-6\n",
    "        return mu, sigma\n",
    "\n",
    "class DeepAR(pl.LightningModule):\n",
    "    def __init__(\n",
    "        self,\n",
    "        input_size: int = 1,\n",
    "        hidden_size: int = 64,\n",
    "        num_layers: int = 2,\n",
    "        learning_rate: float = 1e-3\n",
    "    ):\n",
    "        super().__init__()\n",
    "        self.save_hyperparameters()\n",
    "        \n",
    "        self.lstm = nn.LSTM(\n",
    "            input_size=input_size,\n",
    "            hidden_size=hidden_size,\n",
    "            num_layers=num_layers,\n",
    "            batch_first=True\n",
    "        )\n",
    "        self.dense = nn.Linear(hidden_size, 32)\n",
    "        self.activation = nn.ReLU()\n",
    "        self.gaussian = GaussianLayer(32, input_size)\n",
    "        self.learning_rate = learning_rate\n",
    "        \n",
    "    def gaussian_loss(\n",
    "        self,\n",
    "        y_true: torch.Tensor,\n",
    "        mu: torch.Tensor,\n",
    "        sigma: torch.Tensor\n",
    "    ) -> torch.Tensor:\n",
    "        pi_tensor = torch.tensor(2 * np.pi, device=self.device, dtype=torch.float32)\n",
    "        return 0.5 * torch.mean(\n",
    "            torch.log(pi_tensor)\n",
    "            + torch.log(sigma)\n",
    "            + (y_true - mu)**2 / (sigma**2)\n",
    "        )\n",
    "\n",
    "    def forward(self, x: torch.Tensor) -> Tuple[torch.Tensor, torch.Tensor]:\n",
    "        lstm_out, _ = self.lstm(x)\n",
    "        dense_out = self.activation(self.dense(lstm_out[:, -1, :]))\n",
    "        mu, sigma = self.gaussian(dense_out)\n",
    "        return mu, sigma\n",
    "\n",
    "    def training_step(\n",
    "        self,\n",
    "        batch: Tuple[torch.Tensor, torch.Tensor],\n",
    "        batch_idx: int\n",
    "    ) -> torch.Tensor:\n",
    "        x, y = batch\n",
    "        mu, sigma = self(x)\n",
    "        loss = self.gaussian_loss(y, mu, sigma)\n",
    "        self.log('train_loss', loss, prog_bar=True)\n",
    "        return loss\n",
    "\n",
    "    def validation_step(\n",
    "        self,\n",
    "        batch: Tuple[torch.Tensor, torch.Tensor],\n",
    "        batch_idx: int\n",
    "    ) -> torch.Tensor:\n",
    "        x, y = batch\n",
    "        mu, sigma = self(x)\n",
    "        loss = self.gaussian_loss(y, mu, sigma)\n",
    "        self.log('val_loss', loss, prog_bar=True)\n",
    "        return loss\n",
    "\n",
    "    def configure_optimizers(self):\n",
    "        return torch.optim.Adam(self.parameters(), lr=self.learning_rate)\n"
   ]
  },
  {
   "cell_type": "code",
   "execution_count": 5,
   "metadata": {},
   "outputs": [
    {
     "name": "stderr",
     "output_type": "stream",
     "text": [
      "GPU available: False, used: False\n",
      "TPU available: False, using: 0 TPU cores\n",
      "HPU available: False, using: 0 HPUs\n",
      "\n",
      "  | Name       | Type          | Params | Mode \n",
      "-----------------------------------------------------\n",
      "0 | lstm       | LSTM          | 50.4 K | train\n",
      "1 | dense      | Linear        | 2.1 K  | train\n",
      "2 | activation | ReLU          | 0      | train\n",
      "3 | gaussian   | GaussianLayer | 66     | train\n",
      "-----------------------------------------------------\n",
      "52.6 K    Trainable params\n",
      "0         Non-trainable params\n",
      "52.6 K    Total params\n",
      "0.210     Total estimated model params size (MB)\n",
      "6         Modules in train mode\n",
      "0         Modules in eval mode\n"
     ]
    },
    {
     "data": {
      "application/vnd.jupyter.widget-view+json": {
       "model_id": "eb85f2da7ef148368efefc3afb09b717",
       "version_major": 2,
       "version_minor": 0
      },
      "text/plain": [
       "Sanity Checking: |          | 0/? [00:00<?, ?it/s]"
      ]
     },
     "metadata": {},
     "output_type": "display_data"
    },
    {
     "name": "stderr",
     "output_type": "stream",
     "text": [
      "c:\\Users\\aades\\AppData\\Local\\Programs\\Python\\Python311\\Lib\\site-packages\\pytorch_lightning\\trainer\\connectors\\data_connector.py:425: PossibleUserWarning:\n",
      "\n",
      "The 'val_dataloader' does not have many workers which may be a bottleneck. Consider increasing the value of the `num_workers` argument` to `num_workers=11` in the `DataLoader` to improve performance.\n",
      "\n",
      "c:\\Users\\aades\\AppData\\Local\\Programs\\Python\\Python311\\Lib\\site-packages\\pytorch_lightning\\trainer\\connectors\\data_connector.py:425: PossibleUserWarning:\n",
      "\n",
      "The 'train_dataloader' does not have many workers which may be a bottleneck. Consider increasing the value of the `num_workers` argument` to `num_workers=11` in the `DataLoader` to improve performance.\n",
      "\n"
     ]
    },
    {
     "data": {
      "application/vnd.jupyter.widget-view+json": {
       "model_id": "e38d37707c314a50886dbdc0af839fe8",
       "version_major": 2,
       "version_minor": 0
      },
      "text/plain": [
       "Training: |          | 0/? [00:00<?, ?it/s]"
      ]
     },
     "metadata": {},
     "output_type": "display_data"
    },
    {
     "data": {
      "application/vnd.jupyter.widget-view+json": {
       "model_id": "83c5421273e1436389c4e7f0666b50cf",
       "version_major": 2,
       "version_minor": 0
      },
      "text/plain": [
       "Validation: |          | 0/? [00:00<?, ?it/s]"
      ]
     },
     "metadata": {},
     "output_type": "display_data"
    },
    {
     "data": {
      "application/vnd.jupyter.widget-view+json": {
       "model_id": "2f7f15ba375c48cf89537a1edffbc606",
       "version_major": 2,
       "version_minor": 0
      },
      "text/plain": [
       "Validation: |          | 0/? [00:00<?, ?it/s]"
      ]
     },
     "metadata": {},
     "output_type": "display_data"
    },
    {
     "data": {
      "application/vnd.jupyter.widget-view+json": {
       "model_id": "fb9f855c492448cc9e2e264f0cca6f9a",
       "version_major": 2,
       "version_minor": 0
      },
      "text/plain": [
       "Validation: |          | 0/? [00:00<?, ?it/s]"
      ]
     },
     "metadata": {},
     "output_type": "display_data"
    },
    {
     "data": {
      "application/vnd.jupyter.widget-view+json": {
       "model_id": "e1f1591165224bb7b0757427883ec333",
       "version_major": 2,
       "version_minor": 0
      },
      "text/plain": [
       "Validation: |          | 0/? [00:00<?, ?it/s]"
      ]
     },
     "metadata": {},
     "output_type": "display_data"
    },
    {
     "data": {
      "application/vnd.jupyter.widget-view+json": {
       "model_id": "046bc2e7009c4389b595c9c15a980c7c",
       "version_major": 2,
       "version_minor": 0
      },
      "text/plain": [
       "Validation: |          | 0/? [00:00<?, ?it/s]"
      ]
     },
     "metadata": {},
     "output_type": "display_data"
    },
    {
     "data": {
      "application/vnd.jupyter.widget-view+json": {
       "model_id": "6688cc561e2d41f5be23cd6797a82842",
       "version_major": 2,
       "version_minor": 0
      },
      "text/plain": [
       "Validation: |          | 0/? [00:00<?, ?it/s]"
      ]
     },
     "metadata": {},
     "output_type": "display_data"
    },
    {
     "data": {
      "application/vnd.jupyter.widget-view+json": {
       "model_id": "8fcf428940c942c1981f78f3236d46ab",
       "version_major": 2,
       "version_minor": 0
      },
      "text/plain": [
       "Validation: |          | 0/? [00:00<?, ?it/s]"
      ]
     },
     "metadata": {},
     "output_type": "display_data"
    },
    {
     "data": {
      "application/vnd.jupyter.widget-view+json": {
       "model_id": "1de467d9b203422e896d2f86aa398195",
       "version_major": 2,
       "version_minor": 0
      },
      "text/plain": [
       "Validation: |          | 0/? [00:00<?, ?it/s]"
      ]
     },
     "metadata": {},
     "output_type": "display_data"
    },
    {
     "data": {
      "application/vnd.jupyter.widget-view+json": {
       "model_id": "839edb043967433a99cb973d238418e5",
       "version_major": 2,
       "version_minor": 0
      },
      "text/plain": [
       "Validation: |          | 0/? [00:00<?, ?it/s]"
      ]
     },
     "metadata": {},
     "output_type": "display_data"
    },
    {
     "data": {
      "application/vnd.jupyter.widget-view+json": {
       "model_id": "9ab10dea94c444abad3142366cfb6e65",
       "version_major": 2,
       "version_minor": 0
      },
      "text/plain": [
       "Validation: |          | 0/? [00:00<?, ?it/s]"
      ]
     },
     "metadata": {},
     "output_type": "display_data"
    },
    {
     "data": {
      "application/vnd.jupyter.widget-view+json": {
       "model_id": "0c80da1111644fa889a5cabfb1a89267",
       "version_major": 2,
       "version_minor": 0
      },
      "text/plain": [
       "Validation: |          | 0/? [00:00<?, ?it/s]"
      ]
     },
     "metadata": {},
     "output_type": "display_data"
    },
    {
     "data": {
      "application/vnd.jupyter.widget-view+json": {
       "model_id": "cc91ea2947524e75bfddd1af2743c3a3",
       "version_major": 2,
       "version_minor": 0
      },
      "text/plain": [
       "Validation: |          | 0/? [00:00<?, ?it/s]"
      ]
     },
     "metadata": {},
     "output_type": "display_data"
    },
    {
     "data": {
      "application/vnd.jupyter.widget-view+json": {
       "model_id": "2d7879f21ccd4059b940ef3dce5ffa33",
       "version_major": 2,
       "version_minor": 0
      },
      "text/plain": [
       "Validation: |          | 0/? [00:00<?, ?it/s]"
      ]
     },
     "metadata": {},
     "output_type": "display_data"
    },
    {
     "data": {
      "application/vnd.jupyter.widget-view+json": {
       "model_id": "80b0cc35ea134145b5b0334c5e3cc843",
       "version_major": 2,
       "version_minor": 0
      },
      "text/plain": [
       "Validation: |          | 0/? [00:00<?, ?it/s]"
      ]
     },
     "metadata": {},
     "output_type": "display_data"
    },
    {
     "data": {
      "application/vnd.jupyter.widget-view+json": {
       "model_id": "4d477f0ba08f40e294493ee508f2030b",
       "version_major": 2,
       "version_minor": 0
      },
      "text/plain": [
       "Validation: |          | 0/? [00:00<?, ?it/s]"
      ]
     },
     "metadata": {},
     "output_type": "display_data"
    },
    {
     "data": {
      "application/vnd.jupyter.widget-view+json": {
       "model_id": "b3783f29062e4626ad0a8c8d279c00e5",
       "version_major": 2,
       "version_minor": 0
      },
      "text/plain": [
       "Validation: |          | 0/? [00:00<?, ?it/s]"
      ]
     },
     "metadata": {},
     "output_type": "display_data"
    },
    {
     "data": {
      "application/vnd.jupyter.widget-view+json": {
       "model_id": "e078301383d74d5e90a7958775466046",
       "version_major": 2,
       "version_minor": 0
      },
      "text/plain": [
       "Validation: |          | 0/? [00:00<?, ?it/s]"
      ]
     },
     "metadata": {},
     "output_type": "display_data"
    },
    {
     "data": {
      "application/vnd.jupyter.widget-view+json": {
       "model_id": "a4eceba89a9948d19ce092f885da20dc",
       "version_major": 2,
       "version_minor": 0
      },
      "text/plain": [
       "Validation: |          | 0/? [00:00<?, ?it/s]"
      ]
     },
     "metadata": {},
     "output_type": "display_data"
    },
    {
     "data": {
      "application/vnd.jupyter.widget-view+json": {
       "model_id": "71870b66503c4f34b13572930ab1e8c1",
       "version_major": 2,
       "version_minor": 0
      },
      "text/plain": [
       "Validation: |          | 0/? [00:00<?, ?it/s]"
      ]
     },
     "metadata": {},
     "output_type": "display_data"
    },
    {
     "data": {
      "application/vnd.jupyter.widget-view+json": {
       "model_id": "d10f435d4be34603a35fac676144a7d2",
       "version_major": 2,
       "version_minor": 0
      },
      "text/plain": [
       "Validation: |          | 0/? [00:00<?, ?it/s]"
      ]
     },
     "metadata": {},
     "output_type": "display_data"
    },
    {
     "data": {
      "application/vnd.jupyter.widget-view+json": {
       "model_id": "85438222ece741dfa1c647180949c5cf",
       "version_major": 2,
       "version_minor": 0
      },
      "text/plain": [
       "Validation: |          | 0/? [00:00<?, ?it/s]"
      ]
     },
     "metadata": {},
     "output_type": "display_data"
    },
    {
     "data": {
      "application/vnd.jupyter.widget-view+json": {
       "model_id": "fd65d5b5c43a425392a5471a186bd061",
       "version_major": 2,
       "version_minor": 0
      },
      "text/plain": [
       "Validation: |          | 0/? [00:00<?, ?it/s]"
      ]
     },
     "metadata": {},
     "output_type": "display_data"
    },
    {
     "data": {
      "application/vnd.jupyter.widget-view+json": {
       "model_id": "78fb745eb4f94d298bcdbf279f4c8b6a",
       "version_major": 2,
       "version_minor": 0
      },
      "text/plain": [
       "Validation: |          | 0/? [00:00<?, ?it/s]"
      ]
     },
     "metadata": {},
     "output_type": "display_data"
    },
    {
     "data": {
      "application/vnd.jupyter.widget-view+json": {
       "model_id": "02b0618d761e4d22bf90a2adbd5f663f",
       "version_major": 2,
       "version_minor": 0
      },
      "text/plain": [
       "Validation: |          | 0/? [00:00<?, ?it/s]"
      ]
     },
     "metadata": {},
     "output_type": "display_data"
    },
    {
     "data": {
      "application/vnd.jupyter.widget-view+json": {
       "model_id": "4cf29654b28d4af48b4224e673c8d966",
       "version_major": 2,
       "version_minor": 0
      },
      "text/plain": [
       "Validation: |          | 0/? [00:00<?, ?it/s]"
      ]
     },
     "metadata": {},
     "output_type": "display_data"
    },
    {
     "data": {
      "application/vnd.jupyter.widget-view+json": {
       "model_id": "db12f86fa45f4bed90634d8515166ab8",
       "version_major": 2,
       "version_minor": 0
      },
      "text/plain": [
       "Validation: |          | 0/? [00:00<?, ?it/s]"
      ]
     },
     "metadata": {},
     "output_type": "display_data"
    },
    {
     "data": {
      "application/vnd.jupyter.widget-view+json": {
       "model_id": "6889373da32c4de39f75525aada89d4e",
       "version_major": 2,
       "version_minor": 0
      },
      "text/plain": [
       "Validation: |          | 0/? [00:00<?, ?it/s]"
      ]
     },
     "metadata": {},
     "output_type": "display_data"
    },
    {
     "data": {
      "application/vnd.jupyter.widget-view+json": {
       "model_id": "4d177faca77840888a3f8dccfc06aba0",
       "version_major": 2,
       "version_minor": 0
      },
      "text/plain": [
       "Validation: |          | 0/? [00:00<?, ?it/s]"
      ]
     },
     "metadata": {},
     "output_type": "display_data"
    },
    {
     "data": {
      "application/vnd.jupyter.widget-view+json": {
       "model_id": "2fcda09e1bfc4ff9bd1b87b356d21f8a",
       "version_major": 2,
       "version_minor": 0
      },
      "text/plain": [
       "Validation: |          | 0/? [00:00<?, ?it/s]"
      ]
     },
     "metadata": {},
     "output_type": "display_data"
    },
    {
     "data": {
      "application/vnd.jupyter.widget-view+json": {
       "model_id": "13d70ad1308f47e3bc1d94efad8d3091",
       "version_major": 2,
       "version_minor": 0
      },
      "text/plain": [
       "Validation: |          | 0/? [00:00<?, ?it/s]"
      ]
     },
     "metadata": {},
     "output_type": "display_data"
    },
    {
     "data": {
      "application/vnd.jupyter.widget-view+json": {
       "model_id": "e652414f82c34ebea3b3c24b5ac6fbff",
       "version_major": 2,
       "version_minor": 0
      },
      "text/plain": [
       "Validation: |          | 0/? [00:00<?, ?it/s]"
      ]
     },
     "metadata": {},
     "output_type": "display_data"
    },
    {
     "data": {
      "application/vnd.jupyter.widget-view+json": {
       "model_id": "95390a7d41d7492b8cc26f732659f87e",
       "version_major": 2,
       "version_minor": 0
      },
      "text/plain": [
       "Validation: |          | 0/? [00:00<?, ?it/s]"
      ]
     },
     "metadata": {},
     "output_type": "display_data"
    },
    {
     "data": {
      "application/vnd.jupyter.widget-view+json": {
       "model_id": "cd6937cacaac490bba723600a70974d3",
       "version_major": 2,
       "version_minor": 0
      },
      "text/plain": [
       "Validation: |          | 0/? [00:00<?, ?it/s]"
      ]
     },
     "metadata": {},
     "output_type": "display_data"
    },
    {
     "name": "stdout",
     "output_type": "stream",
     "text": [
      "Total Training Time: 314.50 seconds (5.24 minutes)\n",
      "PICP: 97.73%\n",
      "MPIW: 4.5008\n"
     ]
    },
    {
     "data": {
      "application/vnd.plotly.v1+json": {
       "config": {
        "plotlyServerURL": "https://plot.ly"
       },
       "data": [
        {
         "line": {
          "color": "blue"
         },
         "name": "True Values",
         "type": "scatter",
         "x": [
          0,
          1,
          2,
          3,
          4,
          5,
          6,
          7,
          8,
          9,
          10,
          11,
          12,
          13,
          14,
          15,
          16,
          17,
          18,
          19,
          20,
          21,
          22,
          23,
          24,
          25,
          26,
          27,
          28,
          29,
          30,
          31,
          32,
          33,
          34,
          35,
          36,
          37,
          38,
          39,
          40,
          41,
          42,
          43,
          44,
          45,
          46,
          47,
          48,
          49,
          50,
          51,
          52,
          53,
          54,
          55,
          56,
          57,
          58,
          59,
          60,
          61,
          62,
          63,
          64,
          65,
          66,
          67,
          68,
          69,
          70,
          71,
          72,
          73,
          74,
          75,
          76,
          77,
          78,
          79,
          80,
          81,
          82,
          83,
          84,
          85,
          86,
          87,
          88,
          89,
          90,
          91,
          92,
          93,
          94,
          95,
          96,
          97,
          98,
          99
         ],
         "y": [
          5.359999986634687,
          5.189999944738961,
          4.809999958197794,
          4.380000028189562,
          4.350000036097356,
          4.120000010017218,
          3.2000000032415463,
          2.1700000037844793,
          1.6700000488744875,
          1.3100000137081784,
          0.9700000599765644,
          0.3400000959804008,
          0.6400000169024613,
          0.5400001299683321,
          0.5300000892509846,
          0.9000000350748047,
          0.930000027167011,
          1.4500000635116976,
          1.5100000476961097,
          2.30999998855808,
          2.9099999929769966,
          3.610000014389879,
          3.770000015568257,
          3.5099999973959135,
          5.05999993565279,
          5.110000009179691,
          5.199999985456309,
          5.080000017087485,
          4.380000028189562,
          3.720000007071274,
          2.580000014932812,
          1.7799999765259642,
          1.2599999401812774,
          1.1500000125298007,
          0.6199999354677663,
          1.359999957175243,
          2.190000020189256,
          2.6200000152274066,
          2.1199999952874964,
          1.719999992341552,
          1.9299999369869945,
          0.6799999196521784,
          1.6799999595319985,
          2.2899999721533035,
          2.9900000016949253,
          2.8600000007374935,
          2.74000001611119,
          3.1700000030206006,
          4.7300000226385235,
          5.080000017087485,
          5.380000068069382,
          5.080000017087485,
          5.289999961732927,
          4.369999987472214,
          3.53000001380069,
          2.5700000067304236,
          1.1300000611549421,
          0.6899999603695259,
          0.5200000485336371,
          1.2099999967142128,
          1.4400000227943501,
          1.7099999516242046,
          1.939999977704342,
          2.080000027507861,
          1.8999999448947884,
          2.199999995876685,
          2.2200000122814623,
          2.690000007614207,
          2.880000000884791,
          2.540000014638218,
          2.829999992387808,
          4.8799999830995535,
          5.129999960554549,
          5.47999995500351,
          5.54999997990527,
          5.25000005898321,
          5.3900001087867295,
          5.099999968462344,
          4.010000017335823,
          2.439999997644252,
          2.1199999952874964,
          2.010000002606102,
          1.690000000249346,
          1.5599999911631743,
          2.1299999709749255,
          2.190000020189256,
          1.7099999516242046,
          1.5700000318805218,
          1.600000023972728,
          1.8500000014277238,
          1.6799999595319985,
          1.5700000318805218,
          2.199999995876685,
          2.270000020778445,
          2.929999993124294,
          4.770000055448077,
          5.469999914286163,
          6.5599999304426015,
          5.520000117872901,
          4.860000031724695
         ]
        },
        {
         "line": {
          "color": "green"
         },
         "name": "Predictions",
         "type": "scatter",
         "x": [
          0,
          1,
          2,
          3,
          4,
          5,
          6,
          7,
          8,
          9,
          10,
          11,
          12,
          13,
          14,
          15,
          16,
          17,
          18,
          19,
          20,
          21,
          22,
          23,
          24,
          25,
          26,
          27,
          28,
          29,
          30,
          31,
          32,
          33,
          34,
          35,
          36,
          37,
          38,
          39,
          40,
          41,
          42,
          43,
          44,
          45,
          46,
          47,
          48,
          49,
          50,
          51,
          52,
          53,
          54,
          55,
          56,
          57,
          58,
          59,
          60,
          61,
          62,
          63,
          64,
          65,
          66,
          67,
          68,
          69,
          70,
          71,
          72,
          73,
          74,
          75,
          76,
          77,
          78,
          79,
          80,
          81,
          82,
          83,
          84,
          85,
          86,
          87,
          88,
          89,
          90,
          91,
          92,
          93,
          94,
          95,
          96,
          97,
          98,
          99
         ],
         "y": [
          5.3649594283243385,
          5.47462718315311,
          5.222346476403303,
          4.8052690316410684,
          4.295566092680549,
          4.013181476029084,
          3.4550224038620723,
          2.4148137802246925,
          1.6743817647699126,
          1.443450640319477,
          1.180332307504548,
          1.0119032583752472,
          0.7198845893866581,
          0.9011221913450846,
          0.8619983716547797,
          0.8544424153870263,
          1.033831346827864,
          1.0677665593964094,
          1.47726697819736,
          1.7934791178726563,
          2.759747261223513,
          3.496954670634237,
          4.30916462895725,
          4.518528711061501,
          4.363183161255921,
          5.5616569829410425,
          5.032167000558196,
          4.993029134405537,
          4.723728277197467,
          3.6715190974659078,
          2.9722374940755056,
          2.0329657734651194,
          1.5167604279433136,
          1.1306731208094043,
          1.0957694826974531,
          0.8424355513907704,
          1.2967382023484633,
          1.8054498252343338,
          1.9587945345134896,
          1.4889786063645083,
          1.3845972636546275,
          1.7905889281834864,
          1.2129143775329922,
          2.165811036566912,
          2.814964847670861,
          3.9855067587257276,
          3.654681290898573,
          3.8856760146091114,
          4.489652305897777,
          5.415366979319341,
          5.3418831716341195,
          5.298981373809937,
          4.5027878291561425,
          4.563169929140518,
          3.333377698799465,
          2.8411977866554654,
          2.0971512782814288,
          1.1847181853147444,
          0.9626456964555583,
          0.8926508739472627,
          1.2638673994827423,
          1.372629157489682,
          1.4119628937562776,
          1.4370992982584148,
          1.5956341753773695,
          1.499675767806091,
          1.7952401280603694,
          2.052027082999156,
          2.7433080555404317,
          3.0467964820437716,
          3.03733427126577,
          3.9308316843718436,
          5.595748527433194,
          5.386635981052949,
          5.622583253281798,
          5.398444893977882,
          4.927748980974391,
          4.8077133762103355,
          3.78725889085662,
          2.84110167243621,
          1.8062561962213222,
          1.9452428197779685,
          1.5602056157648563,
          1.452252829941637,
          1.4508448021504863,
          1.8950295781788618,
          1.7473765474694773,
          1.3863202963700503,
          1.4202144100302265,
          1.5469283272845844,
          1.8104365794896733,
          2.0216757992882637,
          2.2421651347863025,
          2.7715002159037447,
          2.998402395508083,
          4.30696713795787,
          5.526940370874138,
          5.627649864276817,
          6.416737459697531,
          5.249651498621093
         ]
        },
        {
         "fill": "toself",
         "fillcolor": "rgba(128,128,128,0.2)",
         "line": {
          "color": "rgba(255,255,255,0)"
         },
         "name": "95% Prediction Interval",
         "type": "scatter",
         "x": [
          0,
          1,
          2,
          3,
          4,
          5,
          6,
          7,
          8,
          9,
          10,
          11,
          12,
          13,
          14,
          15,
          16,
          17,
          18,
          19,
          20,
          21,
          22,
          23,
          24,
          25,
          26,
          27,
          28,
          29,
          30,
          31,
          32,
          33,
          34,
          35,
          36,
          37,
          38,
          39,
          40,
          41,
          42,
          43,
          44,
          45,
          46,
          47,
          48,
          49,
          50,
          51,
          52,
          53,
          54,
          55,
          56,
          57,
          58,
          59,
          60,
          61,
          62,
          63,
          64,
          65,
          66,
          67,
          68,
          69,
          70,
          71,
          72,
          73,
          74,
          75,
          76,
          77,
          78,
          79,
          80,
          81,
          82,
          83,
          84,
          85,
          86,
          87,
          88,
          89,
          90,
          91,
          92,
          93,
          94,
          95,
          96,
          97,
          98,
          99,
          99,
          98,
          97,
          96,
          95,
          94,
          93,
          92,
          91,
          90,
          89,
          88,
          87,
          86,
          85,
          84,
          83,
          82,
          81,
          80,
          79,
          78,
          77,
          76,
          75,
          74,
          73,
          72,
          71,
          70,
          69,
          68,
          67,
          66,
          65,
          64,
          63,
          62,
          61,
          60,
          59,
          58,
          57,
          56,
          55,
          54,
          53,
          52,
          51,
          50,
          49,
          48,
          47,
          46,
          45,
          44,
          43,
          42,
          41,
          40,
          39,
          38,
          37,
          36,
          35,
          34,
          33,
          32,
          31,
          30,
          29,
          28,
          27,
          26,
          25,
          24,
          23,
          22,
          21,
          20,
          19,
          18,
          17,
          16,
          15,
          14,
          13,
          12,
          11,
          10,
          9,
          8,
          7,
          6,
          5,
          4,
          3,
          2,
          1,
          0
         ],
         "y": [
          6.515238797194229,
          6.547482971767158,
          6.227411436500266,
          5.794926323134071,
          5.320098929360794,
          5.015178844819739,
          4.44163577493903,
          3.49269508092539,
          2.755507343064953,
          2.548555935959755,
          2.237514910358194,
          2.0510626893106854,
          1.7597167548269668,
          1.9407324747041352,
          1.9084577360696025,
          1.8650851216368887,
          2.112580861967858,
          2.203802685379518,
          2.81539970273457,
          3.1814463497647614,
          4.211569028162712,
          4.846618435255461,
          5.543532364350279,
          5.629133586892875,
          5.6711889553003925,
          6.967820756513557,
          6.079843204804352,
          6.041982006007867,
          5.7521805971138225,
          4.7532963405722874,
          4.169000638729682,
          3.1692461518213837,
          2.6574420311704947,
          2.234118722874689,
          2.217345035806803,
          1.8996989864328704,
          2.453681577126629,
          3.1095125952122693,
          3.3197342918791333,
          2.8078693682546287,
          2.761204679237617,
          3.5769843248661735,
          3.1622566711719897,
          3.995629510898918,
          4.446648281042019,
          5.90320035675372,
          5.365154778198928,
          5.46279589993628,
          6.451697283658898,
          7.044094347694086,
          6.616856888615471,
          6.547952487777323,
          5.930043666551539,
          6.34919634606674,
          4.806095822022405,
          4.257512665445552,
          3.382594682050131,
          2.709180354413702,
          2.3618949688744855,
          2.256799337541937,
          2.6568940890788526,
          2.713138335361448,
          2.7667490000125077,
          2.877113615445842,
          3.2277926523017495,
          3.1304725182411537,
          3.5838232612546905,
          4.0836427581413846,
          4.2048436340115565,
          4.353270780868449,
          4.221264988982063,
          5.173758982761834,
          7.2095614141044075,
          6.711812274726807,
          6.912852007048606,
          6.560407277850867,
          6.089070429972557,
          6.194769018707634,
          5.144508525508018,
          4.110437295500475,
          2.9347093134906626,
          3.2544008139149767,
          2.717662987017309,
          2.551702473586885,
          2.532573467907892,
          3.0483034447268844,
          2.9354969558611788,
          2.493430464391687,
          2.647467872360633,
          2.903290498640867,
          3.394973907358604,
          3.4426801805771152,
          3.4167772684279107,
          3.953293733483667,
          4.115554889951445,
          5.601463616773556,
          6.852477970774101,
          6.801433646819049,
          7.690388468140551,
          6.852141115797278,
          3.647161881444907,
          5.14308658131435,
          4.453866081734583,
          4.201402770974175,
          3.0124706591421844,
          1.8812498685497616,
          1.5897066983238226,
          1.0675530011446939,
          0.6006714830293305,
          0.22589912156090586,
          0.19056602586846516,
          0.19296094769982064,
          0.27921012834841363,
          0.5592560090179393,
          0.7417557116308391,
          0.36911607136316205,
          0.3528031862963892,
          0.402748244512404,
          0.6360849557007966,
          0.6778029488921451,
          1.5717661144018629,
          2.4300091911753037,
          3.420657863772874,
          3.766427662036062,
          4.236482640164734,
          4.3323144995149905,
          4.061459687379092,
          3.981935640761981,
          2.687904451011771,
          1.853403667351834,
          1.7403221019316961,
          1.2817724770693073,
          0.020411342827009626,
          0.006656994866048649,
          -0.13112085256913497,
          -0.036524171487173795,
          -0.0029151489888490367,
          0.05717665744021083,
          0.03211984955807923,
          -0.12915929011336758,
          -0.4714975896474112,
          -0.4366035759633693,
          -0.3397441138440498,
          0.811707874512726,
          1.4248830379252155,
          1.8606595755765258,
          2.7771433821544598,
          3.0755319917607467,
          4.050010259842551,
          4.066909454652766,
          3.7866396109445963,
          2.5276073281366553,
          2.308556129281943,
          1.9442076735383813,
          2.067813095667818,
          1.183281284239866,
          0.3359926922947425,
          -0.7364279161060048,
          0.004193401440962585,
          0.00798984807163805,
          0.1700878444743883,
          0.5978546470880093,
          0.501387185316235,
          0.13979482757029738,
          -0.2148278836513291,
          -0.025806200471733654,
          0.02722751874411955,
          0.37607869465629573,
          0.8966853300789364,
          1.7754744144512473,
          2.5897417893296093,
          3.69527602231103,
          3.944076327833126,
          3.9844907312821225,
          4.1554933394283635,
          3.0551773672114497,
          3.407923965289963,
          3.0747967635043847,
          2.147290840983095,
          1.3079254292543963,
          0.40551175592071464,
          0.1391341236003134,
          -0.06826969664653637,
          -0.04491823334204881,
          -0.1562002908628366,
          -0.18446099276004357,
          -0.13848796195412927,
          -0.3199474459938143,
          -0.027256107530273077,
          0.12314976968082014,
          0.3383452146193626,
          0.5932562515047901,
          1.336932414494077,
          2.4684090327851136,
          3.011184172268347,
          3.271033125940466,
          3.815611740148066,
          4.217281516306341,
          4.401771524598899,
          4.214680059454447
         ]
        }
       ],
       "layout": {
        "template": {
         "data": {
          "bar": [
           {
            "error_x": {
             "color": "#2a3f5f"
            },
            "error_y": {
             "color": "#2a3f5f"
            },
            "marker": {
             "line": {
              "color": "#E5ECF6",
              "width": 0.5
             },
             "pattern": {
              "fillmode": "overlay",
              "size": 10,
              "solidity": 0.2
             }
            },
            "type": "bar"
           }
          ],
          "barpolar": [
           {
            "marker": {
             "line": {
              "color": "#E5ECF6",
              "width": 0.5
             },
             "pattern": {
              "fillmode": "overlay",
              "size": 10,
              "solidity": 0.2
             }
            },
            "type": "barpolar"
           }
          ],
          "carpet": [
           {
            "aaxis": {
             "endlinecolor": "#2a3f5f",
             "gridcolor": "white",
             "linecolor": "white",
             "minorgridcolor": "white",
             "startlinecolor": "#2a3f5f"
            },
            "baxis": {
             "endlinecolor": "#2a3f5f",
             "gridcolor": "white",
             "linecolor": "white",
             "minorgridcolor": "white",
             "startlinecolor": "#2a3f5f"
            },
            "type": "carpet"
           }
          ],
          "choropleth": [
           {
            "colorbar": {
             "outlinewidth": 0,
             "ticks": ""
            },
            "type": "choropleth"
           }
          ],
          "contour": [
           {
            "colorbar": {
             "outlinewidth": 0,
             "ticks": ""
            },
            "colorscale": [
             [
              0,
              "#0d0887"
             ],
             [
              0.1111111111111111,
              "#46039f"
             ],
             [
              0.2222222222222222,
              "#7201a8"
             ],
             [
              0.3333333333333333,
              "#9c179e"
             ],
             [
              0.4444444444444444,
              "#bd3786"
             ],
             [
              0.5555555555555556,
              "#d8576b"
             ],
             [
              0.6666666666666666,
              "#ed7953"
             ],
             [
              0.7777777777777778,
              "#fb9f3a"
             ],
             [
              0.8888888888888888,
              "#fdca26"
             ],
             [
              1,
              "#f0f921"
             ]
            ],
            "type": "contour"
           }
          ],
          "contourcarpet": [
           {
            "colorbar": {
             "outlinewidth": 0,
             "ticks": ""
            },
            "type": "contourcarpet"
           }
          ],
          "heatmap": [
           {
            "colorbar": {
             "outlinewidth": 0,
             "ticks": ""
            },
            "colorscale": [
             [
              0,
              "#0d0887"
             ],
             [
              0.1111111111111111,
              "#46039f"
             ],
             [
              0.2222222222222222,
              "#7201a8"
             ],
             [
              0.3333333333333333,
              "#9c179e"
             ],
             [
              0.4444444444444444,
              "#bd3786"
             ],
             [
              0.5555555555555556,
              "#d8576b"
             ],
             [
              0.6666666666666666,
              "#ed7953"
             ],
             [
              0.7777777777777778,
              "#fb9f3a"
             ],
             [
              0.8888888888888888,
              "#fdca26"
             ],
             [
              1,
              "#f0f921"
             ]
            ],
            "type": "heatmap"
           }
          ],
          "heatmapgl": [
           {
            "colorbar": {
             "outlinewidth": 0,
             "ticks": ""
            },
            "colorscale": [
             [
              0,
              "#0d0887"
             ],
             [
              0.1111111111111111,
              "#46039f"
             ],
             [
              0.2222222222222222,
              "#7201a8"
             ],
             [
              0.3333333333333333,
              "#9c179e"
             ],
             [
              0.4444444444444444,
              "#bd3786"
             ],
             [
              0.5555555555555556,
              "#d8576b"
             ],
             [
              0.6666666666666666,
              "#ed7953"
             ],
             [
              0.7777777777777778,
              "#fb9f3a"
             ],
             [
              0.8888888888888888,
              "#fdca26"
             ],
             [
              1,
              "#f0f921"
             ]
            ],
            "type": "heatmapgl"
           }
          ],
          "histogram": [
           {
            "marker": {
             "pattern": {
              "fillmode": "overlay",
              "size": 10,
              "solidity": 0.2
             }
            },
            "type": "histogram"
           }
          ],
          "histogram2d": [
           {
            "colorbar": {
             "outlinewidth": 0,
             "ticks": ""
            },
            "colorscale": [
             [
              0,
              "#0d0887"
             ],
             [
              0.1111111111111111,
              "#46039f"
             ],
             [
              0.2222222222222222,
              "#7201a8"
             ],
             [
              0.3333333333333333,
              "#9c179e"
             ],
             [
              0.4444444444444444,
              "#bd3786"
             ],
             [
              0.5555555555555556,
              "#d8576b"
             ],
             [
              0.6666666666666666,
              "#ed7953"
             ],
             [
              0.7777777777777778,
              "#fb9f3a"
             ],
             [
              0.8888888888888888,
              "#fdca26"
             ],
             [
              1,
              "#f0f921"
             ]
            ],
            "type": "histogram2d"
           }
          ],
          "histogram2dcontour": [
           {
            "colorbar": {
             "outlinewidth": 0,
             "ticks": ""
            },
            "colorscale": [
             [
              0,
              "#0d0887"
             ],
             [
              0.1111111111111111,
              "#46039f"
             ],
             [
              0.2222222222222222,
              "#7201a8"
             ],
             [
              0.3333333333333333,
              "#9c179e"
             ],
             [
              0.4444444444444444,
              "#bd3786"
             ],
             [
              0.5555555555555556,
              "#d8576b"
             ],
             [
              0.6666666666666666,
              "#ed7953"
             ],
             [
              0.7777777777777778,
              "#fb9f3a"
             ],
             [
              0.8888888888888888,
              "#fdca26"
             ],
             [
              1,
              "#f0f921"
             ]
            ],
            "type": "histogram2dcontour"
           }
          ],
          "mesh3d": [
           {
            "colorbar": {
             "outlinewidth": 0,
             "ticks": ""
            },
            "type": "mesh3d"
           }
          ],
          "parcoords": [
           {
            "line": {
             "colorbar": {
              "outlinewidth": 0,
              "ticks": ""
             }
            },
            "type": "parcoords"
           }
          ],
          "pie": [
           {
            "automargin": true,
            "type": "pie"
           }
          ],
          "scatter": [
           {
            "fillpattern": {
             "fillmode": "overlay",
             "size": 10,
             "solidity": 0.2
            },
            "type": "scatter"
           }
          ],
          "scatter3d": [
           {
            "line": {
             "colorbar": {
              "outlinewidth": 0,
              "ticks": ""
             }
            },
            "marker": {
             "colorbar": {
              "outlinewidth": 0,
              "ticks": ""
             }
            },
            "type": "scatter3d"
           }
          ],
          "scattercarpet": [
           {
            "marker": {
             "colorbar": {
              "outlinewidth": 0,
              "ticks": ""
             }
            },
            "type": "scattercarpet"
           }
          ],
          "scattergeo": [
           {
            "marker": {
             "colorbar": {
              "outlinewidth": 0,
              "ticks": ""
             }
            },
            "type": "scattergeo"
           }
          ],
          "scattergl": [
           {
            "marker": {
             "colorbar": {
              "outlinewidth": 0,
              "ticks": ""
             }
            },
            "type": "scattergl"
           }
          ],
          "scattermapbox": [
           {
            "marker": {
             "colorbar": {
              "outlinewidth": 0,
              "ticks": ""
             }
            },
            "type": "scattermapbox"
           }
          ],
          "scatterpolar": [
           {
            "marker": {
             "colorbar": {
              "outlinewidth": 0,
              "ticks": ""
             }
            },
            "type": "scatterpolar"
           }
          ],
          "scatterpolargl": [
           {
            "marker": {
             "colorbar": {
              "outlinewidth": 0,
              "ticks": ""
             }
            },
            "type": "scatterpolargl"
           }
          ],
          "scatterternary": [
           {
            "marker": {
             "colorbar": {
              "outlinewidth": 0,
              "ticks": ""
             }
            },
            "type": "scatterternary"
           }
          ],
          "surface": [
           {
            "colorbar": {
             "outlinewidth": 0,
             "ticks": ""
            },
            "colorscale": [
             [
              0,
              "#0d0887"
             ],
             [
              0.1111111111111111,
              "#46039f"
             ],
             [
              0.2222222222222222,
              "#7201a8"
             ],
             [
              0.3333333333333333,
              "#9c179e"
             ],
             [
              0.4444444444444444,
              "#bd3786"
             ],
             [
              0.5555555555555556,
              "#d8576b"
             ],
             [
              0.6666666666666666,
              "#ed7953"
             ],
             [
              0.7777777777777778,
              "#fb9f3a"
             ],
             [
              0.8888888888888888,
              "#fdca26"
             ],
             [
              1,
              "#f0f921"
             ]
            ],
            "type": "surface"
           }
          ],
          "table": [
           {
            "cells": {
             "fill": {
              "color": "#EBF0F8"
             },
             "line": {
              "color": "white"
             }
            },
            "header": {
             "fill": {
              "color": "#C8D4E3"
             },
             "line": {
              "color": "white"
             }
            },
            "type": "table"
           }
          ]
         },
         "layout": {
          "annotationdefaults": {
           "arrowcolor": "#2a3f5f",
           "arrowhead": 0,
           "arrowwidth": 1
          },
          "autotypenumbers": "strict",
          "coloraxis": {
           "colorbar": {
            "outlinewidth": 0,
            "ticks": ""
           }
          },
          "colorscale": {
           "diverging": [
            [
             0,
             "#8e0152"
            ],
            [
             0.1,
             "#c51b7d"
            ],
            [
             0.2,
             "#de77ae"
            ],
            [
             0.3,
             "#f1b6da"
            ],
            [
             0.4,
             "#fde0ef"
            ],
            [
             0.5,
             "#f7f7f7"
            ],
            [
             0.6,
             "#e6f5d0"
            ],
            [
             0.7,
             "#b8e186"
            ],
            [
             0.8,
             "#7fbc41"
            ],
            [
             0.9,
             "#4d9221"
            ],
            [
             1,
             "#276419"
            ]
           ],
           "sequential": [
            [
             0,
             "#0d0887"
            ],
            [
             0.1111111111111111,
             "#46039f"
            ],
            [
             0.2222222222222222,
             "#7201a8"
            ],
            [
             0.3333333333333333,
             "#9c179e"
            ],
            [
             0.4444444444444444,
             "#bd3786"
            ],
            [
             0.5555555555555556,
             "#d8576b"
            ],
            [
             0.6666666666666666,
             "#ed7953"
            ],
            [
             0.7777777777777778,
             "#fb9f3a"
            ],
            [
             0.8888888888888888,
             "#fdca26"
            ],
            [
             1,
             "#f0f921"
            ]
           ],
           "sequentialminus": [
            [
             0,
             "#0d0887"
            ],
            [
             0.1111111111111111,
             "#46039f"
            ],
            [
             0.2222222222222222,
             "#7201a8"
            ],
            [
             0.3333333333333333,
             "#9c179e"
            ],
            [
             0.4444444444444444,
             "#bd3786"
            ],
            [
             0.5555555555555556,
             "#d8576b"
            ],
            [
             0.6666666666666666,
             "#ed7953"
            ],
            [
             0.7777777777777778,
             "#fb9f3a"
            ],
            [
             0.8888888888888888,
             "#fdca26"
            ],
            [
             1,
             "#f0f921"
            ]
           ]
          },
          "colorway": [
           "#636efa",
           "#EF553B",
           "#00cc96",
           "#ab63fa",
           "#FFA15A",
           "#19d3f3",
           "#FF6692",
           "#B6E880",
           "#FF97FF",
           "#FECB52"
          ],
          "font": {
           "color": "#2a3f5f"
          },
          "geo": {
           "bgcolor": "white",
           "lakecolor": "white",
           "landcolor": "#E5ECF6",
           "showlakes": true,
           "showland": true,
           "subunitcolor": "white"
          },
          "hoverlabel": {
           "align": "left"
          },
          "hovermode": "closest",
          "mapbox": {
           "style": "light"
          },
          "paper_bgcolor": "white",
          "plot_bgcolor": "#E5ECF6",
          "polar": {
           "angularaxis": {
            "gridcolor": "white",
            "linecolor": "white",
            "ticks": ""
           },
           "bgcolor": "#E5ECF6",
           "radialaxis": {
            "gridcolor": "white",
            "linecolor": "white",
            "ticks": ""
           }
          },
          "scene": {
           "xaxis": {
            "backgroundcolor": "#E5ECF6",
            "gridcolor": "white",
            "gridwidth": 2,
            "linecolor": "white",
            "showbackground": true,
            "ticks": "",
            "zerolinecolor": "white"
           },
           "yaxis": {
            "backgroundcolor": "#E5ECF6",
            "gridcolor": "white",
            "gridwidth": 2,
            "linecolor": "white",
            "showbackground": true,
            "ticks": "",
            "zerolinecolor": "white"
           },
           "zaxis": {
            "backgroundcolor": "#E5ECF6",
            "gridcolor": "white",
            "gridwidth": 2,
            "linecolor": "white",
            "showbackground": true,
            "ticks": "",
            "zerolinecolor": "white"
           }
          },
          "shapedefaults": {
           "line": {
            "color": "#2a3f5f"
           }
          },
          "ternary": {
           "aaxis": {
            "gridcolor": "white",
            "linecolor": "white",
            "ticks": ""
           },
           "baxis": {
            "gridcolor": "white",
            "linecolor": "white",
            "ticks": ""
           },
           "bgcolor": "#E5ECF6",
           "caxis": {
            "gridcolor": "white",
            "linecolor": "white",
            "ticks": ""
           }
          },
          "title": {
           "x": 0.05
          },
          "xaxis": {
           "automargin": true,
           "gridcolor": "white",
           "linecolor": "white",
           "ticks": "",
           "title": {
            "standoff": 15
           },
           "zerolinecolor": "white",
           "zerolinewidth": 2
          },
          "yaxis": {
           "automargin": true,
           "gridcolor": "white",
           "linecolor": "white",
           "ticks": "",
           "title": {
            "standoff": 15
           },
           "zerolinecolor": "white",
           "zerolinewidth": 2
          }
         }
        },
        "title": {
         "text": "Time Series Predictions (PICP: 97.73%, MPIW: 4.5008)"
        },
        "xaxis": {
         "title": {
          "text": "Time Step"
         }
        },
        "yaxis": {
         "title": {
          "text": "Value"
         }
        }
       }
      }
     },
     "metadata": {},
     "output_type": "display_data"
    }
   ],
   "source": [
    "import pandas as pd\n",
    "import numpy as np\n",
    "import torch\n",
    "import torch.nn as nn\n",
    "from torch.utils.data import Dataset, DataLoader\n",
    "import pytorch_lightning as pl\n",
    "from typing import Tuple, List\n",
    "import plotly.graph_objects as go\n",
    "import time  # Import time module\n",
    "\n",
    "# [Your existing classes: TimeSeriesDataset, GaussianLayer, DeepAR remain unchanged]\n",
    "\n",
    "def prepare_data(filepath: str):\n",
    "    try:\n",
    "        df = pd.read_csv(filepath, index_col='Date/Time', parse_dates=True)\n",
    "        df = df[df.index.minute == 0]\n",
    "        df = pd.DataFrame({'120m': df['120m']}, index=df.index)\n",
    "        \n",
    "        mean = df.mean()\n",
    "        std = df.std()\n",
    "        df_normalized = (df - mean) / std\n",
    "        \n",
    "        # Split sizes\n",
    "        train_size = 0.7\n",
    "        val_size = 0.15\n",
    "        test_size = 0.15\n",
    "        \n",
    "        # Calculate split indices\n",
    "        n = len(df_normalized)\n",
    "        train_end = int(n * train_size)\n",
    "        val_end = train_end + int(n * val_size)\n",
    "        \n",
    "        # Split data\n",
    "        train_data = df_normalized[:train_end]\n",
    "        val_data = df_normalized[train_end:val_end]\n",
    "        test_data = df_normalized[val_end:]\n",
    "        \n",
    "        return train_data, val_data, test_data, mean, std\n",
    "        \n",
    "    except Exception as e:\n",
    "        print(f\"Error loading data: {str(e)}\")\n",
    "        raise\n",
    "\n",
    "def compute_picp_mpiw(y_true, y_lower, y_upper):\n",
    "    \"\"\"\n",
    "    Compute Prediction Interval Coverage Probability (PICP) and Mean Prediction Interval Width (MPIW).\n",
    "    \n",
    "    Args:\n",
    "        y_true (np.ndarray): True target values.\n",
    "        y_lower (np.ndarray): Lower bounds of prediction intervals.\n",
    "        y_upper (np.ndarray): Upper bounds of prediction intervals.\n",
    "    \n",
    "    Returns:\n",
    "        picp (float): Prediction Interval Coverage Probability.\n",
    "        mpiw (float): Mean Prediction Interval Width.\n",
    "    \"\"\"\n",
    "    # Ensure inputs are flattened\n",
    "    y_true = y_true.flatten()\n",
    "    y_lower = y_lower.flatten()\n",
    "    y_upper = y_upper.flatten()\n",
    "    \n",
    "    # Calculate coverage\n",
    "    coverage = ((y_true >= y_lower) & (y_true <= y_upper)).mean()\n",
    "    \n",
    "    # Calculate average width\n",
    "    width = (y_upper - y_lower).mean()\n",
    "    \n",
    "    return coverage, width\n",
    "\n",
    "def main():\n",
    "    try:\n",
    "        # Parameters\n",
    "        SEQUENCE_LENGTH = 24\n",
    "        BATCH_SIZE = 32\n",
    "        MAX_EPOCHS = 100\n",
    "        \n",
    "        # Prepare data\n",
    "        train_data, val_data, test_data, mean, std = prepare_data(r\"D:\\drive-download-20240928T074710Z-001\\Data\\los angeles.csv\")\n",
    "        \n",
    "        # Create datasets\n",
    "        train_dataset = TimeSeriesDataset(train_data, SEQUENCE_LENGTH)\n",
    "        val_dataset = TimeSeriesDataset(val_data, SEQUENCE_LENGTH)\n",
    "        test_dataset = TimeSeriesDataset(test_data, SEQUENCE_LENGTH)\n",
    "        \n",
    "        # Create dataloaders (without multiprocessing)\n",
    "        train_loader = DataLoader(train_dataset, batch_size=BATCH_SIZE, shuffle=True)\n",
    "        val_loader = DataLoader(val_dataset, batch_size=BATCH_SIZE)\n",
    "        test_loader = DataLoader(test_dataset, batch_size=1)  # Using batch_size=1 for sequential prediction\n",
    "        \n",
    "        # Initialize model\n",
    "        model = DeepAR()\n",
    "        \n",
    "        # Configure trainer\n",
    "        trainer = pl.Trainer(\n",
    "            max_epochs=MAX_EPOCHS,\n",
    "            accelerator='auto',\n",
    "            devices=1,\n",
    "            callbacks=[\n",
    "                pl.callbacks.EarlyStopping(\n",
    "                    monitor='val_loss',\n",
    "                    patience=10,\n",
    "                    mode='min'\n",
    "                ),\n",
    "                pl.callbacks.ModelCheckpoint(\n",
    "                    monitor='val_loss',\n",
    "                    mode='min',\n",
    "                    filename='{epoch}-{val_loss:.2f}'\n",
    "                )\n",
    "            ]\n",
    "        )\n",
    "        \n",
    "        # Measure start time\n",
    "        start_time = time.time()\n",
    "        \n",
    "        # Train model\n",
    "        trainer.fit(model, train_loader, val_loader)\n",
    "        \n",
    "        # Measure end time\n",
    "        end_time = time.time()\n",
    "        \n",
    "        # Calculate training time\n",
    "        training_time_seconds = end_time - start_time\n",
    "        training_time_minutes = training_time_seconds / 60\n",
    "        \n",
    "        print(f\"Total Training Time: {training_time_seconds:.2f} seconds ({training_time_minutes:.2f} minutes)\")\n",
    "        \n",
    "        # Switch to evaluation mode\n",
    "        model.eval()\n",
    "        \n",
    "        # Lists to store all predictions and true values\n",
    "        all_y_true = []\n",
    "        all_y_pred = []\n",
    "        all_y_lower = []\n",
    "        all_y_upper = []\n",
    "        \n",
    "        # Iterate over the test_loader to collect predictions\n",
    "        for batch in test_loader:\n",
    "            x, y = batch  # x: [1, SEQUENCE_LENGTH, 1], y: [1, 1]\n",
    "            with torch.no_grad():\n",
    "                mu, sigma = model(x)  # mu and sigma: [1, 1]\n",
    "            \n",
    "            # Denormalize the data\n",
    "            y_true_denorm = y.numpy() * std.values + mean.values\n",
    "            y_pred_denorm = mu.cpu().numpy() * std.values + mean.values\n",
    "            y_lower_denorm = (mu - 2 * sigma).cpu().numpy() * std.values + mean.values\n",
    "            y_upper_denorm = (mu + 2 * sigma).cpu().numpy() * std.values + mean.values\n",
    "            \n",
    "            # Append to lists\n",
    "            all_y_true.append(y_true_denorm)\n",
    "            all_y_pred.append(y_pred_denorm)\n",
    "            all_y_lower.append(y_lower_denorm)\n",
    "            all_y_upper.append(y_upper_denorm)\n",
    "        \n",
    "        # Convert lists to numpy arrays\n",
    "        all_y_true = np.array(all_y_true)\n",
    "        all_y_pred = np.array(all_y_pred)\n",
    "        all_y_lower = np.array(all_y_lower)\n",
    "        all_y_upper = np.array(all_y_upper)\n",
    "        \n",
    "        # Calculate PICP and MPIW\n",
    "        picp, mpiw = compute_picp_mpiw(all_y_true, all_y_lower, all_y_upper)\n",
    "        print(f\"PICP: {picp*100:.2f}%\")\n",
    "        print(f\"MPIW: {mpiw:.4f}\")\n",
    "        \n",
    "        # For plotting, you might want to plot a subset (e.g., first 100 predictions)\n",
    "        plot_length = min(100, len(all_y_true))\n",
    "        y_true_plot = all_y_true[:plot_length]\n",
    "        y_pred_plot = all_y_pred[:plot_length]\n",
    "        y_lower_plot = all_y_lower[:plot_length]\n",
    "        y_upper_plot = all_y_upper[:plot_length]\n",
    "        \n",
    "        # Plot results with Prediction Intervals\n",
    "        fig = go.Figure()\n",
    "        x = np.arange(plot_length)\n",
    "        \n",
    "        fig.add_trace(go.Scatter(x=x, y=y_true_plot.flatten(), name='True Values', line=dict(color='blue')))\n",
    "        fig.add_trace(go.Scatter(x=x, y=y_pred_plot.flatten(), name='Predictions', line=dict(color='green')))\n",
    "        fig.add_trace(go.Scatter(\n",
    "            x=np.concatenate([x, x[::-1]]),\n",
    "            y=np.concatenate([y_upper_plot.flatten(), y_lower_plot.flatten()[::-1]]),\n",
    "            fill='toself',\n",
    "            fillcolor='rgba(128,128,128,0.2)',\n",
    "            line=dict(color='rgba(255,255,255,0)'),\n",
    "            name='95% Prediction Interval'\n",
    "        ))\n",
    "        \n",
    "        fig.update_layout(\n",
    "            title=f'Time Series Predictions (PICP: {picp*100:.2f}%, MPIW: {mpiw:.4f})',\n",
    "            xaxis_title='Time Step',\n",
    "            yaxis_title='Value'\n",
    "        )\n",
    "        fig.show()\n",
    "        \n",
    "    except Exception as e:\n",
    "        print(f\"Error in main execution: {str(e)}\")\n",
    "        raise\n",
    "\n",
    "if __name__ == \"__main__\":\n",
    "    main()\n"
   ]
  },
  {
   "cell_type": "code",
   "execution_count": null,
   "metadata": {},
   "outputs": [],
   "source": []
  }
 ],
 "metadata": {
  "kernelspec": {
   "display_name": "Python 3",
   "language": "python",
   "name": "python3"
  },
  "language_info": {
   "codemirror_mode": {
    "name": "ipython",
    "version": 3
   },
   "file_extension": ".py",
   "mimetype": "text/x-python",
   "name": "python",
   "nbconvert_exporter": "python",
   "pygments_lexer": "ipython3",
   "version": "3.11.9"
  }
 },
 "nbformat": 4,
 "nbformat_minor": 2
}
